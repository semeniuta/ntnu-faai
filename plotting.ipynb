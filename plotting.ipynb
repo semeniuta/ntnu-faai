{
 "cells": [
  {
   "cell_type": "markdown",
   "metadata": {},
   "source": [
    "Plotting using Matplotlib"
   ]
  },
  {
   "cell_type": "code",
   "execution_count": 1,
   "metadata": {},
   "outputs": [],
   "source": [
    "%matplotlib inline\n",
    "%load_ext autoreload\n",
    "%autoreload 2"
   ]
  },
  {
   "cell_type": "code",
   "execution_count": 2,
   "metadata": {},
   "outputs": [
    {
     "data": {
      "application/javascript": [
       "IPython.OutputArea.prototype._should_scroll = function(lines) {\n",
       "    return false;\n",
       "}\n"
      ],
      "text/plain": [
       "<IPython.core.display.Javascript object>"
      ]
     },
     "metadata": {},
     "output_type": "display_data"
    }
   ],
   "source": [
    "%%javascript\n",
    "IPython.OutputArea.prototype._should_scroll = function(lines) {\n",
    "    return false;\n",
    "}"
   ]
  },
  {
   "cell_type": "code",
   "execution_count": null,
   "metadata": {},
   "outputs": [],
   "source": []
  },
  {
   "cell_type": "markdown",
   "metadata": {},
   "source": [
    "## Imports"
   ]
  },
  {
   "cell_type": "code",
   "execution_count": 3,
   "metadata": {},
   "outputs": [],
   "source": [
    "import numpy as np\n",
    "from matplotlib import pyplot as plt\n",
    "from sklearn import datasets \n",
    "import scipy as sp"
   ]
  },
  {
   "cell_type": "code",
   "execution_count": null,
   "metadata": {},
   "outputs": [],
   "source": []
  },
  {
   "cell_type": "markdown",
   "metadata": {},
   "source": [
    "## Demo"
   ]
  },
  {
   "cell_type": "code",
   "execution_count": 4,
   "metadata": {},
   "outputs": [],
   "source": [
    "d = datasets.load_wine()"
   ]
  },
  {
   "cell_type": "code",
   "execution_count": 5,
   "metadata": {},
   "outputs": [
    {
     "data": {
      "text/plain": [
       "['alcohol',\n",
       " 'malic_acid',\n",
       " 'ash',\n",
       " 'alcalinity_of_ash',\n",
       " 'magnesium',\n",
       " 'total_phenols',\n",
       " 'flavanoids',\n",
       " 'nonflavanoid_phenols',\n",
       " 'proanthocyanins',\n",
       " 'color_intensity',\n",
       " 'hue',\n",
       " 'od280/od315_of_diluted_wines',\n",
       " 'proline']"
      ]
     },
     "execution_count": 5,
     "metadata": {},
     "output_type": "execute_result"
    }
   ],
   "source": [
    "d.feature_names"
   ]
  },
  {
   "cell_type": "code",
   "execution_count": 6,
   "metadata": {},
   "outputs": [
    {
     "name": "stdout",
     "output_type": "stream",
     "text": [
      "0 alcohol\n",
      "1 malic_acid\n",
      "2 ash\n",
      "3 alcalinity_of_ash\n",
      "4 magnesium\n",
      "5 total_phenols\n",
      "6 flavanoids\n",
      "7 nonflavanoid_phenols\n",
      "8 proanthocyanins\n",
      "9 color_intensity\n",
      "10 hue\n",
      "11 od280/od315_of_diluted_wines\n",
      "12 proline\n"
     ]
    }
   ],
   "source": [
    "for i, f_name in enumerate(d.feature_names):\n",
    "    \n",
    "    print(i, f_name)"
   ]
  },
  {
   "cell_type": "code",
   "execution_count": null,
   "metadata": {},
   "outputs": [],
   "source": []
  },
  {
   "cell_type": "code",
   "execution_count": 7,
   "metadata": {},
   "outputs": [
    {
     "data": {
      "text/plain": [
       "(178, 13)"
      ]
     },
     "execution_count": 7,
     "metadata": {},
     "output_type": "execute_result"
    }
   ],
   "source": [
    "d.data.shape"
   ]
  },
  {
   "cell_type": "code",
   "execution_count": null,
   "metadata": {},
   "outputs": [],
   "source": []
  },
  {
   "cell_type": "code",
   "execution_count": 8,
   "metadata": {},
   "outputs": [],
   "source": [
    "first_col = d.data[:, 0]\n",
    "second_col = d.data[:, 1]"
   ]
  },
  {
   "cell_type": "code",
   "execution_count": null,
   "metadata": {},
   "outputs": [],
   "source": []
  },
  {
   "cell_type": "code",
   "execution_count": 9,
   "metadata": {},
   "outputs": [
    {
     "data": {
      "image/png": "[encoded data removed]",
      "text/plain": [
       "<Figure size 432x288 with 1 Axes>"
      ]
     },
     "metadata": {
      "needs_background": "light"
     },
     "output_type": "display_data"
    }
   ],
   "source": [
    "_ = plt.hist(first_col, bins=20)"
   ]
  },
  {
   "cell_type": "code",
   "execution_count": null,
   "metadata": {},
   "outputs": [],
   "source": []
  },
  {
   "cell_type": "code",
   "execution_count": 10,
   "metadata": {},
   "outputs": [
    {
     "data": {
      "image/png": "[encoded data removed]",
      "text/plain": [
       "<Figure size 432x288 with 1 Axes>"
      ]
     },
     "metadata": {
      "needs_background": "light"
     },
     "output_type": "display_data"
    }
   ],
   "source": [
    "_ = plt.scatter(d.data[:, 0], d.data[:, 9])"
   ]
  },
  {
   "cell_type": "code",
   "execution_count": null,
   "metadata": {},
   "outputs": [],
   "source": []
  },
  {
   "cell_type": "code",
   "execution_count": 11,
   "metadata": {},
   "outputs": [
    {
     "name": "stdout",
     "output_type": "stream",
     "text": [
      "0 1 alcohol malic_acid 0.09439694091041399\n",
      "0 2 alcohol ash 0.2115445964317445\n",
      "0 3 alcohol alcalinity_of_ash -0.3102351368910851\n",
      "0 4 alcohol magnesium 0.27079822591148\n",
      "0 5 alcohol total_phenols 0.28910112258745674\n",
      "0 6 alcohol flavanoids 0.23681492790034572\n",
      "0 7 alcohol nonflavanoid_phenols -0.1559294666873291\n",
      "0 8 alcohol proanthocyanins 0.13669791176947976\n",
      "0 9 alcohol color_intensity 0.5463641950837037\n",
      "0 10 alcohol hue -0.07174719733015458\n",
      "0 11 alcohol od280/od315_of_diluted_wines 0.07234318740052231\n",
      "0 12 alcohol proline 0.6437200371782135\n",
      "1 2 malic_acid ash 0.16404546975674442\n",
      "1 3 malic_acid alcalinity_of_ash 0.28850040280362427\n",
      "1 4 malic_acid magnesium -0.05457509608400125\n",
      "1 5 malic_acid total_phenols -0.33516699716206527\n",
      "1 6 malic_acid flavanoids -0.4110065876142631\n",
      "1 7 malic_acid nonflavanoid_phenols 0.292977133480648\n",
      "1 8 malic_acid proanthocyanins -0.22074618679284613\n",
      "1 9 malic_acid color_intensity 0.2489853440952397\n",
      "1 10 malic_acid hue -0.5612956886649448\n",
      "1 11 malic_acid od280/od315_of_diluted_wines -0.36871042829326406\n",
      "1 12 malic_acid proline -0.19201056463400956\n",
      "2 3 ash alcalinity_of_ash 0.44336718655231083\n",
      "2 4 ash magnesium 0.2865866912581744\n",
      "2 5 ash total_phenols 0.1289795376540699\n",
      "2 6 ash flavanoids 0.11507727901397242\n",
      "2 7 ash nonflavanoid_phenols 0.18623044631692115\n",
      "2 8 ash proanthocyanins 0.009651935152086896\n",
      "2 9 ash color_intensity 0.25888725929965356\n",
      "2 10 ash hue -0.07466688903277302\n",
      "2 11 ash od280/od315_of_diluted_wines 0.0039112306302752226\n",
      "2 12 ash proline 0.22362626368757219\n",
      "3 4 alcalinity_of_ash magnesium -0.08333308856795281\n",
      "3 5 alcalinity_of_ash total_phenols -0.32111331732407095\n",
      "3 6 alcalinity_of_ash flavanoids -0.3513698601383947\n",
      "3 7 alcalinity_of_ash nonflavanoid_phenols 0.36192171855760463\n",
      "3 8 alcalinity_of_ash proanthocyanins -0.19732683571595477\n",
      "3 9 alcalinity_of_ash color_intensity 0.018731980931230546\n",
      "3 10 alcalinity_of_ash hue -0.2739552227004073\n",
      "3 11 alcalinity_of_ash od280/od315_of_diluted_wines -0.2767685488914356\n",
      "3 12 alcalinity_of_ash proline -0.4405969312821618\n",
      "4 5 magnesium total_phenols 0.21440123465343236\n",
      "4 6 magnesium flavanoids 0.19578376985743307\n",
      "4 7 magnesium nonflavanoid_phenols -0.2562940489138299\n",
      "4 8 magnesium proanthocyanins 0.23644060977750753\n",
      "4 9 magnesium color_intensity 0.19995000627543222\n",
      "4 10 magnesium hue 0.055398195603007315\n",
      "4 11 magnesium od280/od315_of_diluted_wines 0.06600393603204731\n",
      "4 12 magnesium proline 0.3933508493830868\n",
      "5 6 total_phenols flavanoids 0.8645635000951147\n",
      "5 7 total_phenols nonflavanoid_phenols -0.44993530093521994\n",
      "5 8 total_phenols proanthocyanins 0.612413083780036\n",
      "5 9 total_phenols color_intensity -0.05513641774236597\n",
      "5 10 total_phenols hue 0.43368133521377566\n",
      "5 11 total_phenols od280/od315_of_diluted_wines 0.6999493647911863\n",
      "5 12 total_phenols proline 0.4981148796420982\n",
      "6 7 flavanoids nonflavanoid_phenols -0.5378996119051981\n",
      "6 8 flavanoids proanthocyanins 0.6526917686075154\n",
      "6 9 flavanoids color_intensity -0.17237939828917942\n",
      "6 10 flavanoids hue 0.5434785664899896\n",
      "6 11 flavanoids od280/od315_of_diluted_wines 0.7871939018669515\n",
      "6 12 flavanoids proline 0.4941931272043739\n",
      "7 8 nonflavanoid_phenols proanthocyanins -0.3658450990079915\n",
      "7 9 nonflavanoid_phenols color_intensity 0.13905701286052888\n",
      "7 10 nonflavanoid_phenols hue -0.26263963114983346\n",
      "7 11 nonflavanoid_phenols od280/od315_of_diluted_wines -0.5032695960789114\n",
      "7 12 nonflavanoid_phenols proline -0.311385188317921\n",
      "8 9 proanthocyanins color_intensity -0.02524993081570155\n",
      "8 10 proanthocyanins hue 0.2955442527835989\n",
      "8 11 proanthocyanins od280/od315_of_diluted_wines 0.5190670956825232\n",
      "8 12 proanthocyanins proline 0.3304167004025367\n",
      "9 10 color_intensity hue -0.5218131932287576\n",
      "9 11 color_intensity od280/od315_of_diluted_wines -0.4288149418276316\n",
      "9 12 color_intensity proline 0.31610011265608984\n",
      "10 11 hue od280/od315_of_diluted_wines 0.5654682931826592\n",
      "10 12 hue proline 0.236183446650437\n",
      "11 12 od280/od315_of_diluted_wines proline 0.3127610754527236\n"
     ]
    }
   ],
   "source": [
    "for i, feature_i in enumerate(d.feature_names):\n",
    "\n",
    "    for j in range(i + 1, len(d.feature_names)):\n",
    "        feature_j = d.feature_names[j]\n",
    "        \n",
    "        x = d.data[:, i]\n",
    "        y = d.data[:, j]\n",
    "        \n",
    "        corr_coef, _ = sp.stats.pearsonr(x, y)\n",
    "        \n",
    "        print(i, j, feature_i, feature_j, corr_coef)"
   ]
  },
  {
   "cell_type": "code",
   "execution_count": null,
   "metadata": {},
   "outputs": [],
   "source": []
  },
  {
   "cell_type": "markdown",
   "metadata": {},
   "source": [
    "## Exercise"
   ]
  },
  {
   "cell_type": "markdown",
   "metadata": {},
   "source": [
    "Find two features with a greater correlation coefficient than features 0 and 9. Make a scatter plot using these features."
   ]
  },
  {
   "cell_type": "code",
   "execution_count": null,
   "metadata": {},
   "outputs": [],
   "source": []
  }
 ],
 "metadata": {
  "kernelspec": {
   "display_name": "Python 3",
   "language": "python",
   "name": "python3"
  },
  "language_info": {
   "codemirror_mode": {
    "name": "ipython",
    "version": 3
   },
   "file_extension": ".py",
   "mimetype": "text/x-python",
   "name": "python",
   "nbconvert_exporter": "python",
   "pygments_lexer": "ipython3",
   "version": "3.7.6"
  }
 },
 "nbformat": 4,
 "nbformat_minor": 4
}
