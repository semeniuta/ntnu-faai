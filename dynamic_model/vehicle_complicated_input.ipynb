{
 "cells": [
  {
   "cell_type": "markdown",
   "metadata": {},
   "source": [
    "Model for vehicle velocity control.\n",
    "\n",
    "http://apmonitor.com/pdc/index.php/Main/SpeedControl\n",
    "\n",
    "Comparision of a step input and a more complicated input. "
   ]
  },
  {
   "cell_type": "code",
   "execution_count": 1,
   "metadata": {},
   "outputs": [],
   "source": [
    "%matplotlib inline\n",
    "%load_ext autoreload\n",
    "%autoreload 2"
   ]
  },
  {
   "cell_type": "code",
   "execution_count": null,
   "metadata": {},
   "outputs": [],
   "source": []
  },
  {
   "cell_type": "code",
   "execution_count": 2,
   "metadata": {},
   "outputs": [],
   "source": [
    "import numpy as np\n",
    "from scipy.integrate import odeint\n",
    "from matplotlib import pyplot as plt"
   ]
  },
  {
   "cell_type": "code",
   "execution_count": null,
   "metadata": {},
   "outputs": [],
   "source": []
  },
  {
   "cell_type": "markdown",
   "metadata": {},
   "source": [
    "$m \\frac{dv(t)}{dt} = F_p u(t) - \\frac{1}{2} \\rho A C_d v(t)^2$\n",
    "\n",
    "$\\frac{dv(t)}{dt} = \\frac{1}{m} [ F_p u(t) - \\frac{1}{2} \\rho A C_d v(t)^2 ]$"
   ]
  },
  {
   "cell_type": "code",
   "execution_count": 3,
   "metadata": {},
   "outputs": [],
   "source": [
    "# Mass (car + load), kg\n",
    "m = 700\n",
    "\n",
    "# Thrust parameter, (N / %pedal)\n",
    "F_p = 30\n",
    "\n",
    "# Air density, kg/m^3\n",
    "rho = 1.225 \n",
    "\n",
    "# vehicle cross-sectional area (m^2)\n",
    "A = 5\n",
    "\n",
    "# Drag coefficient\n",
    "C_d = 0.24\n",
    "\n",
    "def vehicle_model(v, t, u_func):\n",
    "    \n",
    "    u = u_func(t)\n",
    "    \n",
    "    drive = F_p * u\n",
    "    drag = 0.5 * rho * A * C_d * (v**2)\n",
    "    \n",
    "    return (1. / m) * (drive - drag)\n",
    "    "
   ]
  },
  {
   "cell_type": "code",
   "execution_count": 4,
   "metadata": {},
   "outputs": [],
   "source": [
    "step_t = 5\n",
    "step_val = 50\n",
    "\n",
    "def step_input(t):\n",
    "    return 0 if t < step_t else step_val"
   ]
  },
  {
   "cell_type": "code",
   "execution_count": null,
   "metadata": {},
   "outputs": [],
   "source": []
  },
  {
   "cell_type": "code",
   "execution_count": 5,
   "metadata": {},
   "outputs": [],
   "source": [
    "t = np.linspace(0, 200, 100)"
   ]
  },
  {
   "cell_type": "code",
   "execution_count": null,
   "metadata": {},
   "outputs": [],
   "source": []
  },
  {
   "cell_type": "code",
   "execution_count": 6,
   "metadata": {},
   "outputs": [
    {
     "data": {
      "image/png": "[encoded data removed]",
      "text/plain": [
       "<Figure size 432x288 with 1 Axes>"
      ]
     },
     "metadata": {
      "needs_background": "light"
     },
     "output_type": "display_data"
    }
   ],
   "source": [
    "def complicated_input(t):\n",
    "    \n",
    "    if t < 5:\n",
    "        return 0\n",
    "    \n",
    "    if t < 30:\n",
    "        return 50\n",
    "    \n",
    "    if t < 80:\n",
    "        return 80 - t\n",
    "    \n",
    "    return 0\n",
    "\n",
    "\n",
    "plt.plot(t, [complicated_input(t_val) for t_val in t])\n",
    "plt.plot(t, [step_input(t_val) for t_val in t], '--')\n",
    "plt.show()"
   ]
  },
  {
   "cell_type": "code",
   "execution_count": null,
   "metadata": {},
   "outputs": [],
   "source": []
  },
  {
   "cell_type": "code",
   "execution_count": 7,
   "metadata": {},
   "outputs": [
    {
     "data": {
      "image/png": "[encoded data removed]",
      "text/plain": [
       "<Figure size 432x288 with 1 Axes>"
      ]
     },
     "metadata": {
      "needs_background": "light"
     },
     "output_type": "display_data"
    }
   ],
   "source": [
    "y_sim_step = odeint(vehicle_model, 0, t, args=(step_input,))\n",
    "y_sim_comp = odeint(vehicle_model, 0, t, args=(complicated_input,))\n",
    "\n",
    "plt.plot(t, y_sim_comp)\n",
    "plt.plot(t, y_sim_step, '--')\n",
    "\n",
    "plt.xlabel('$t$, s')\n",
    "plt.ylabel('$v$, m/s')\n",
    "plt.show()"
   ]
  },
  {
   "cell_type": "code",
   "execution_count": null,
   "metadata": {},
   "outputs": [],
   "source": []
  }
 ],
 "metadata": {
  "kernelspec": {
   "display_name": "Python 3",
   "language": "python",
   "name": "python3"
  },
  "language_info": {
   "codemirror_mode": {
    "name": "ipython",
    "version": 3
   },
   "file_extension": ".py",
   "mimetype": "text/x-python",
   "name": "python",
   "nbconvert_exporter": "python",
   "pygments_lexer": "ipython3",
   "version": "3.7.6"
  }
 },
 "nbformat": 4,
 "nbformat_minor": 4
}
