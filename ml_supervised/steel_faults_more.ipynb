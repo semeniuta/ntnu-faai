{
 "cells": [
  {
   "cell_type": "markdown",
   "metadata": {},
   "source": [
    "Steel plate faults with `GridSearchCV` and feature importances."
   ]
  },
  {
   "cell_type": "code",
   "execution_count": 1,
   "metadata": {},
   "outputs": [],
   "source": [
    "%matplotlib inline\n",
    "%load_ext autoreload\n",
    "%autoreload 2"
   ]
  },
  {
   "cell_type": "code",
   "execution_count": 2,
   "metadata": {},
   "outputs": [
    {
     "data": {
      "application/javascript": [
       "IPython.OutputArea.prototype._should_scroll = function(lines) {\n",
       "    return false;\n",
       "}\n"
      ],
      "text/plain": [
       "<IPython.core.display.Javascript object>"
      ]
     },
     "metadata": {},
     "output_type": "display_data"
    }
   ],
   "source": [
    "%%javascript\n",
    "IPython.OutputArea.prototype._should_scroll = function(lines) {\n",
    "    return false;\n",
    "}"
   ]
  },
  {
   "cell_type": "code",
   "execution_count": null,
   "metadata": {},
   "outputs": [],
   "source": []
  },
  {
   "cell_type": "markdown",
   "metadata": {},
   "source": [
    "## Imports"
   ]
  },
  {
   "cell_type": "code",
   "execution_count": 3,
   "metadata": {},
   "outputs": [],
   "source": [
    "import numpy as np\n",
    "from matplotlib import pyplot as plt\n",
    "import scipy as sp\n",
    "import pandas as pd\n",
    "\n",
    "from sklearn import datasets \n",
    "from sklearn.model_selection import train_test_split\n",
    "from sklearn.model_selection import GridSearchCV\n",
    "from sklearn.tree import DecisionTreeClassifier\n",
    "from sklearn.ensemble import RandomForestClassifier\n",
    "from sklearn.ensemble import AdaBoostClassifier\n",
    "from sklearn.preprocessing import StandardScaler\n",
    "from sklearn.metrics import accuracy_score"
   ]
  },
  {
   "cell_type": "code",
   "execution_count": null,
   "metadata": {},
   "outputs": [],
   "source": []
  },
  {
   "cell_type": "markdown",
   "metadata": {},
   "source": [
    "## Load data"
   ]
  },
  {
   "cell_type": "code",
   "execution_count": null,
   "metadata": {},
   "outputs": [],
   "source": []
  },
  {
   "cell_type": "code",
   "execution_count": 4,
   "metadata": {},
   "outputs": [
    {
     "data": {
      "text/html": [
       "<div>\n",
       "<style scoped>\n",
       "    .dataframe tbody tr th:only-of-type {\n",
       "        vertical-align: middle;\n",
       "    }\n",
       "\n",
       "    .dataframe tbody tr th {\n",
       "        vertical-align: top;\n",
       "    }\n",
       "\n",
       "    .dataframe thead th {\n",
       "        text-align: right;\n",
       "    }\n",
       "</style>\n",
       "<table border=\"1\" class=\"dataframe\">\n",
       "  <thead>\n",
       "    <tr style=\"text-align: right;\">\n",
       "      <th></th>\n",
       "      <th>X_Minimum</th>\n",
       "      <th>X_Maximum</th>\n",
       "      <th>Y_Minimum</th>\n",
       "      <th>Y_Maximum</th>\n",
       "      <th>Pixels_Areas</th>\n",
       "      <th>X_Perimeter</th>\n",
       "      <th>Y_Perimeter</th>\n",
       "      <th>Sum_of_Luminosity</th>\n",
       "      <th>Minimum_of_Luminosity</th>\n",
       "      <th>Maximum_of_Luminosity</th>\n",
       "      <th>...</th>\n",
       "      <th>Edges_X_Index</th>\n",
       "      <th>Edges_Y_Index</th>\n",
       "      <th>Outside_Global_Index</th>\n",
       "      <th>LogOfAreas</th>\n",
       "      <th>Log_X_Index</th>\n",
       "      <th>Log_Y_Index</th>\n",
       "      <th>Orientation_Index</th>\n",
       "      <th>Luminosity_Index</th>\n",
       "      <th>SigmoidOfAreas</th>\n",
       "      <th>Fault</th>\n",
       "    </tr>\n",
       "  </thead>\n",
       "  <tbody>\n",
       "    <tr>\n",
       "      <th>0</th>\n",
       "      <td>42</td>\n",
       "      <td>50</td>\n",
       "      <td>270900</td>\n",
       "      <td>270944</td>\n",
       "      <td>267</td>\n",
       "      <td>17</td>\n",
       "      <td>44</td>\n",
       "      <td>24220</td>\n",
       "      <td>76</td>\n",
       "      <td>108</td>\n",
       "      <td>...</td>\n",
       "      <td>0.4706</td>\n",
       "      <td>1.0000</td>\n",
       "      <td>1.0</td>\n",
       "      <td>2.4265</td>\n",
       "      <td>0.9031</td>\n",
       "      <td>1.6435</td>\n",
       "      <td>0.8182</td>\n",
       "      <td>-0.2913</td>\n",
       "      <td>0.5822</td>\n",
       "      <td>Pastry</td>\n",
       "    </tr>\n",
       "    <tr>\n",
       "      <th>1</th>\n",
       "      <td>645</td>\n",
       "      <td>651</td>\n",
       "      <td>2538079</td>\n",
       "      <td>2538108</td>\n",
       "      <td>108</td>\n",
       "      <td>10</td>\n",
       "      <td>30</td>\n",
       "      <td>11397</td>\n",
       "      <td>84</td>\n",
       "      <td>123</td>\n",
       "      <td>...</td>\n",
       "      <td>0.6000</td>\n",
       "      <td>0.9667</td>\n",
       "      <td>1.0</td>\n",
       "      <td>2.0334</td>\n",
       "      <td>0.7782</td>\n",
       "      <td>1.4624</td>\n",
       "      <td>0.7931</td>\n",
       "      <td>-0.1756</td>\n",
       "      <td>0.2984</td>\n",
       "      <td>Pastry</td>\n",
       "    </tr>\n",
       "    <tr>\n",
       "      <th>2</th>\n",
       "      <td>829</td>\n",
       "      <td>835</td>\n",
       "      <td>1553913</td>\n",
       "      <td>1553931</td>\n",
       "      <td>71</td>\n",
       "      <td>8</td>\n",
       "      <td>19</td>\n",
       "      <td>7972</td>\n",
       "      <td>99</td>\n",
       "      <td>125</td>\n",
       "      <td>...</td>\n",
       "      <td>0.7500</td>\n",
       "      <td>0.9474</td>\n",
       "      <td>1.0</td>\n",
       "      <td>1.8513</td>\n",
       "      <td>0.7782</td>\n",
       "      <td>1.2553</td>\n",
       "      <td>0.6667</td>\n",
       "      <td>-0.1228</td>\n",
       "      <td>0.2150</td>\n",
       "      <td>Pastry</td>\n",
       "    </tr>\n",
       "    <tr>\n",
       "      <th>3</th>\n",
       "      <td>853</td>\n",
       "      <td>860</td>\n",
       "      <td>369370</td>\n",
       "      <td>369415</td>\n",
       "      <td>176</td>\n",
       "      <td>13</td>\n",
       "      <td>45</td>\n",
       "      <td>18996</td>\n",
       "      <td>99</td>\n",
       "      <td>126</td>\n",
       "      <td>...</td>\n",
       "      <td>0.5385</td>\n",
       "      <td>1.0000</td>\n",
       "      <td>1.0</td>\n",
       "      <td>2.2455</td>\n",
       "      <td>0.8451</td>\n",
       "      <td>1.6532</td>\n",
       "      <td>0.8444</td>\n",
       "      <td>-0.1568</td>\n",
       "      <td>0.5212</td>\n",
       "      <td>Pastry</td>\n",
       "    </tr>\n",
       "    <tr>\n",
       "      <th>4</th>\n",
       "      <td>1289</td>\n",
       "      <td>1306</td>\n",
       "      <td>498078</td>\n",
       "      <td>498335</td>\n",
       "      <td>2409</td>\n",
       "      <td>60</td>\n",
       "      <td>260</td>\n",
       "      <td>246930</td>\n",
       "      <td>37</td>\n",
       "      <td>126</td>\n",
       "      <td>...</td>\n",
       "      <td>0.2833</td>\n",
       "      <td>0.9885</td>\n",
       "      <td>1.0</td>\n",
       "      <td>3.3818</td>\n",
       "      <td>1.2305</td>\n",
       "      <td>2.4099</td>\n",
       "      <td>0.9338</td>\n",
       "      <td>-0.1992</td>\n",
       "      <td>1.0000</td>\n",
       "      <td>Pastry</td>\n",
       "    </tr>\n",
       "  </tbody>\n",
       "</table>\n",
       "<p>5 rows × 28 columns</p>\n",
       "</div>"
      ],
      "text/plain": [
       "   X_Minimum  X_Maximum  Y_Minimum  Y_Maximum  Pixels_Areas  X_Perimeter  \\\n",
       "0         42         50     270900     270944           267           17   \n",
       "1        645        651    2538079    2538108           108           10   \n",
       "2        829        835    1553913    1553931            71            8   \n",
       "3        853        860     369370     369415           176           13   \n",
       "4       1289       1306     498078     498335          2409           60   \n",
       "\n",
       "   Y_Perimeter  Sum_of_Luminosity  Minimum_of_Luminosity  \\\n",
       "0           44              24220                     76   \n",
       "1           30              11397                     84   \n",
       "2           19               7972                     99   \n",
       "3           45              18996                     99   \n",
       "4          260             246930                     37   \n",
       "\n",
       "   Maximum_of_Luminosity  ...  Edges_X_Index  Edges_Y_Index  \\\n",
       "0                    108  ...         0.4706         1.0000   \n",
       "1                    123  ...         0.6000         0.9667   \n",
       "2                    125  ...         0.7500         0.9474   \n",
       "3                    126  ...         0.5385         1.0000   \n",
       "4                    126  ...         0.2833         0.9885   \n",
       "\n",
       "   Outside_Global_Index  LogOfAreas  Log_X_Index  Log_Y_Index  \\\n",
       "0                   1.0      2.4265       0.9031       1.6435   \n",
       "1                   1.0      2.0334       0.7782       1.4624   \n",
       "2                   1.0      1.8513       0.7782       1.2553   \n",
       "3                   1.0      2.2455       0.8451       1.6532   \n",
       "4                   1.0      3.3818       1.2305       2.4099   \n",
       "\n",
       "   Orientation_Index  Luminosity_Index  SigmoidOfAreas   Fault  \n",
       "0             0.8182           -0.2913          0.5822  Pastry  \n",
       "1             0.7931           -0.1756          0.2984  Pastry  \n",
       "2             0.6667           -0.1228          0.2150  Pastry  \n",
       "3             0.8444           -0.1568          0.5212  Pastry  \n",
       "4             0.9338           -0.1992          1.0000  Pastry  \n",
       "\n",
       "[5 rows x 28 columns]"
      ]
     },
     "execution_count": 4,
     "metadata": {},
     "output_type": "execute_result"
    }
   ],
   "source": [
    "df = pd.read_csv('../data/steel_plates_faults.csv')\n",
    "\n",
    "df.head()"
   ]
  },
  {
   "cell_type": "code",
   "execution_count": 5,
   "metadata": {},
   "outputs": [
    {
     "data": {
      "text/plain": [
       "['Edges_Index',\n",
       " 'Edges_X_Index',\n",
       " 'Edges_Y_Index',\n",
       " 'Empty_Index',\n",
       " 'Length_of_Conveyer',\n",
       " 'LogOfAreas',\n",
       " 'Log_X_Index',\n",
       " 'Log_Y_Index',\n",
       " 'Luminosity_Index',\n",
       " 'Maximum_of_Luminosity',\n",
       " 'Minimum_of_Luminosity',\n",
       " 'Orientation_Index',\n",
       " 'Outside_Global_Index',\n",
       " 'Outside_X_Index',\n",
       " 'Pixels_Areas',\n",
       " 'SigmoidOfAreas',\n",
       " 'Square_Index',\n",
       " 'Steel_Plate_Thickness',\n",
       " 'Sum_of_Luminosity',\n",
       " 'TypeOfSteel_A300',\n",
       " 'TypeOfSteel_A400',\n",
       " 'X_Maximum',\n",
       " 'X_Minimum',\n",
       " 'X_Perimeter',\n",
       " 'Y_Maximum',\n",
       " 'Y_Minimum',\n",
       " 'Y_Perimeter']"
      ]
     },
     "execution_count": 5,
     "metadata": {},
     "output_type": "execute_result"
    }
   ],
   "source": [
    "feature_names = list(\n",
    "    sorted(\n",
    "        set(df.columns) - set(['Fault'])\n",
    "    )\n",
    ")\n",
    "\n",
    "feature_names"
   ]
  },
  {
   "cell_type": "code",
   "execution_count": null,
   "metadata": {},
   "outputs": [],
   "source": []
  },
  {
   "cell_type": "code",
   "execution_count": 6,
   "metadata": {},
   "outputs": [
    {
     "data": {
      "text/html": [
       "<div>\n",
       "<style scoped>\n",
       "    .dataframe tbody tr th:only-of-type {\n",
       "        vertical-align: middle;\n",
       "    }\n",
       "\n",
       "    .dataframe tbody tr th {\n",
       "        vertical-align: top;\n",
       "    }\n",
       "\n",
       "    .dataframe thead th {\n",
       "        text-align: right;\n",
       "    }\n",
       "</style>\n",
       "<table border=\"1\" class=\"dataframe\">\n",
       "  <thead>\n",
       "    <tr style=\"text-align: right;\">\n",
       "      <th></th>\n",
       "      <th>Edges_Index</th>\n",
       "      <th>Edges_X_Index</th>\n",
       "      <th>Edges_Y_Index</th>\n",
       "      <th>Empty_Index</th>\n",
       "      <th>Length_of_Conveyer</th>\n",
       "      <th>LogOfAreas</th>\n",
       "      <th>Log_X_Index</th>\n",
       "      <th>Log_Y_Index</th>\n",
       "      <th>Luminosity_Index</th>\n",
       "      <th>Maximum_of_Luminosity</th>\n",
       "      <th>...</th>\n",
       "      <th>Steel_Plate_Thickness</th>\n",
       "      <th>Sum_of_Luminosity</th>\n",
       "      <th>TypeOfSteel_A300</th>\n",
       "      <th>TypeOfSteel_A400</th>\n",
       "      <th>X_Maximum</th>\n",
       "      <th>X_Minimum</th>\n",
       "      <th>X_Perimeter</th>\n",
       "      <th>Y_Maximum</th>\n",
       "      <th>Y_Minimum</th>\n",
       "      <th>Y_Perimeter</th>\n",
       "    </tr>\n",
       "  </thead>\n",
       "  <tbody>\n",
       "    <tr>\n",
       "      <th>0</th>\n",
       "      <td>0.0498</td>\n",
       "      <td>0.4706</td>\n",
       "      <td>1.0000</td>\n",
       "      <td>0.2415</td>\n",
       "      <td>1687</td>\n",
       "      <td>2.4265</td>\n",
       "      <td>0.9031</td>\n",
       "      <td>1.6435</td>\n",
       "      <td>-0.2913</td>\n",
       "      <td>108</td>\n",
       "      <td>...</td>\n",
       "      <td>80</td>\n",
       "      <td>24220</td>\n",
       "      <td>True</td>\n",
       "      <td>False</td>\n",
       "      <td>50</td>\n",
       "      <td>42</td>\n",
       "      <td>17</td>\n",
       "      <td>270944</td>\n",
       "      <td>270900</td>\n",
       "      <td>44</td>\n",
       "    </tr>\n",
       "    <tr>\n",
       "      <th>1</th>\n",
       "      <td>0.7647</td>\n",
       "      <td>0.6000</td>\n",
       "      <td>0.9667</td>\n",
       "      <td>0.3793</td>\n",
       "      <td>1687</td>\n",
       "      <td>2.0334</td>\n",
       "      <td>0.7782</td>\n",
       "      <td>1.4624</td>\n",
       "      <td>-0.1756</td>\n",
       "      <td>123</td>\n",
       "      <td>...</td>\n",
       "      <td>80</td>\n",
       "      <td>11397</td>\n",
       "      <td>True</td>\n",
       "      <td>False</td>\n",
       "      <td>651</td>\n",
       "      <td>645</td>\n",
       "      <td>10</td>\n",
       "      <td>2538108</td>\n",
       "      <td>2538079</td>\n",
       "      <td>30</td>\n",
       "    </tr>\n",
       "    <tr>\n",
       "      <th>2</th>\n",
       "      <td>0.9710</td>\n",
       "      <td>0.7500</td>\n",
       "      <td>0.9474</td>\n",
       "      <td>0.3426</td>\n",
       "      <td>1623</td>\n",
       "      <td>1.8513</td>\n",
       "      <td>0.7782</td>\n",
       "      <td>1.2553</td>\n",
       "      <td>-0.1228</td>\n",
       "      <td>125</td>\n",
       "      <td>...</td>\n",
       "      <td>100</td>\n",
       "      <td>7972</td>\n",
       "      <td>True</td>\n",
       "      <td>False</td>\n",
       "      <td>835</td>\n",
       "      <td>829</td>\n",
       "      <td>8</td>\n",
       "      <td>1553931</td>\n",
       "      <td>1553913</td>\n",
       "      <td>19</td>\n",
       "    </tr>\n",
       "    <tr>\n",
       "      <th>3</th>\n",
       "      <td>0.7287</td>\n",
       "      <td>0.5385</td>\n",
       "      <td>1.0000</td>\n",
       "      <td>0.4413</td>\n",
       "      <td>1353</td>\n",
       "      <td>2.2455</td>\n",
       "      <td>0.8451</td>\n",
       "      <td>1.6532</td>\n",
       "      <td>-0.1568</td>\n",
       "      <td>126</td>\n",
       "      <td>...</td>\n",
       "      <td>290</td>\n",
       "      <td>18996</td>\n",
       "      <td>False</td>\n",
       "      <td>True</td>\n",
       "      <td>860</td>\n",
       "      <td>853</td>\n",
       "      <td>13</td>\n",
       "      <td>369415</td>\n",
       "      <td>369370</td>\n",
       "      <td>45</td>\n",
       "    </tr>\n",
       "    <tr>\n",
       "      <th>4</th>\n",
       "      <td>0.0695</td>\n",
       "      <td>0.2833</td>\n",
       "      <td>0.9885</td>\n",
       "      <td>0.4486</td>\n",
       "      <td>1353</td>\n",
       "      <td>3.3818</td>\n",
       "      <td>1.2305</td>\n",
       "      <td>2.4099</td>\n",
       "      <td>-0.1992</td>\n",
       "      <td>126</td>\n",
       "      <td>...</td>\n",
       "      <td>185</td>\n",
       "      <td>246930</td>\n",
       "      <td>False</td>\n",
       "      <td>True</td>\n",
       "      <td>1306</td>\n",
       "      <td>1289</td>\n",
       "      <td>60</td>\n",
       "      <td>498335</td>\n",
       "      <td>498078</td>\n",
       "      <td>260</td>\n",
       "    </tr>\n",
       "    <tr>\n",
       "      <th>...</th>\n",
       "      <td>...</td>\n",
       "      <td>...</td>\n",
       "      <td>...</td>\n",
       "      <td>...</td>\n",
       "      <td>...</td>\n",
       "      <td>...</td>\n",
       "      <td>...</td>\n",
       "      <td>...</td>\n",
       "      <td>...</td>\n",
       "      <td>...</td>\n",
       "      <td>...</td>\n",
       "      <td>...</td>\n",
       "      <td>...</td>\n",
       "      <td>...</td>\n",
       "      <td>...</td>\n",
       "      <td>...</td>\n",
       "      <td>...</td>\n",
       "      <td>...</td>\n",
       "      <td>...</td>\n",
       "      <td>...</td>\n",
       "      <td>...</td>\n",
       "    </tr>\n",
       "    <tr>\n",
       "      <th>1936</th>\n",
       "      <td>0.3662</td>\n",
       "      <td>0.5185</td>\n",
       "      <td>0.7273</td>\n",
       "      <td>0.3906</td>\n",
       "      <td>1360</td>\n",
       "      <td>2.4362</td>\n",
       "      <td>1.4472</td>\n",
       "      <td>1.2041</td>\n",
       "      <td>0.0026</td>\n",
       "      <td>141</td>\n",
       "      <td>...</td>\n",
       "      <td>40</td>\n",
       "      <td>35033</td>\n",
       "      <td>False</td>\n",
       "      <td>True</td>\n",
       "      <td>277</td>\n",
       "      <td>249</td>\n",
       "      <td>54</td>\n",
       "      <td>325796</td>\n",
       "      <td>325780</td>\n",
       "      <td>22</td>\n",
       "    </tr>\n",
       "    <tr>\n",
       "      <th>1937</th>\n",
       "      <td>0.2118</td>\n",
       "      <td>0.7046</td>\n",
       "      <td>0.7083</td>\n",
       "      <td>0.4554</td>\n",
       "      <td>1360</td>\n",
       "      <td>2.4579</td>\n",
       "      <td>1.4914</td>\n",
       "      <td>1.2305</td>\n",
       "      <td>-0.0582</td>\n",
       "      <td>133</td>\n",
       "      <td>...</td>\n",
       "      <td>40</td>\n",
       "      <td>34599</td>\n",
       "      <td>False</td>\n",
       "      <td>True</td>\n",
       "      <td>175</td>\n",
       "      <td>144</td>\n",
       "      <td>44</td>\n",
       "      <td>340598</td>\n",
       "      <td>340581</td>\n",
       "      <td>24</td>\n",
       "    </tr>\n",
       "    <tr>\n",
       "      <th>1938</th>\n",
       "      <td>0.2132</td>\n",
       "      <td>0.7250</td>\n",
       "      <td>0.6818</td>\n",
       "      <td>0.3287</td>\n",
       "      <td>1360</td>\n",
       "      <td>2.4654</td>\n",
       "      <td>1.4624</td>\n",
       "      <td>1.1761</td>\n",
       "      <td>0.0052</td>\n",
       "      <td>140</td>\n",
       "      <td>...</td>\n",
       "      <td>40</td>\n",
       "      <td>37572</td>\n",
       "      <td>False</td>\n",
       "      <td>True</td>\n",
       "      <td>174</td>\n",
       "      <td>145</td>\n",
       "      <td>40</td>\n",
       "      <td>386794</td>\n",
       "      <td>386779</td>\n",
       "      <td>22</td>\n",
       "    </tr>\n",
       "    <tr>\n",
       "      <th>1939</th>\n",
       "      <td>0.2015</td>\n",
       "      <td>0.3402</td>\n",
       "      <td>0.6596</td>\n",
       "      <td>0.5904</td>\n",
       "      <td>1360</td>\n",
       "      <td>2.6222</td>\n",
       "      <td>1.5185</td>\n",
       "      <td>1.4914</td>\n",
       "      <td>-0.0171</td>\n",
       "      <td>140</td>\n",
       "      <td>...</td>\n",
       "      <td>40</td>\n",
       "      <td>52715</td>\n",
       "      <td>False</td>\n",
       "      <td>True</td>\n",
       "      <td>170</td>\n",
       "      <td>137</td>\n",
       "      <td>97</td>\n",
       "      <td>422528</td>\n",
       "      <td>422497</td>\n",
       "      <td>47</td>\n",
       "    </tr>\n",
       "    <tr>\n",
       "      <th>1940</th>\n",
       "      <td>0.1162</td>\n",
       "      <td>0.7692</td>\n",
       "      <td>0.7273</td>\n",
       "      <td>0.6781</td>\n",
       "      <td>1360</td>\n",
       "      <td>2.0128</td>\n",
       "      <td>1.3010</td>\n",
       "      <td>1.2041</td>\n",
       "      <td>-0.1139</td>\n",
       "      <td>133</td>\n",
       "      <td>...</td>\n",
       "      <td>80</td>\n",
       "      <td>11682</td>\n",
       "      <td>True</td>\n",
       "      <td>False</td>\n",
       "      <td>1281</td>\n",
       "      <td>1261</td>\n",
       "      <td>26</td>\n",
       "      <td>87967</td>\n",
       "      <td>87951</td>\n",
       "      <td>22</td>\n",
       "    </tr>\n",
       "  </tbody>\n",
       "</table>\n",
       "<p>1941 rows × 27 columns</p>\n",
       "</div>"
      ],
      "text/plain": [
       "      Edges_Index  Edges_X_Index  Edges_Y_Index  Empty_Index  \\\n",
       "0          0.0498         0.4706         1.0000       0.2415   \n",
       "1          0.7647         0.6000         0.9667       0.3793   \n",
       "2          0.9710         0.7500         0.9474       0.3426   \n",
       "3          0.7287         0.5385         1.0000       0.4413   \n",
       "4          0.0695         0.2833         0.9885       0.4486   \n",
       "...           ...            ...            ...          ...   \n",
       "1936       0.3662         0.5185         0.7273       0.3906   \n",
       "1937       0.2118         0.7046         0.7083       0.4554   \n",
       "1938       0.2132         0.7250         0.6818       0.3287   \n",
       "1939       0.2015         0.3402         0.6596       0.5904   \n",
       "1940       0.1162         0.7692         0.7273       0.6781   \n",
       "\n",
       "      Length_of_Conveyer  LogOfAreas  Log_X_Index  Log_Y_Index  \\\n",
       "0                   1687      2.4265       0.9031       1.6435   \n",
       "1                   1687      2.0334       0.7782       1.4624   \n",
       "2                   1623      1.8513       0.7782       1.2553   \n",
       "3                   1353      2.2455       0.8451       1.6532   \n",
       "4                   1353      3.3818       1.2305       2.4099   \n",
       "...                  ...         ...          ...          ...   \n",
       "1936                1360      2.4362       1.4472       1.2041   \n",
       "1937                1360      2.4579       1.4914       1.2305   \n",
       "1938                1360      2.4654       1.4624       1.1761   \n",
       "1939                1360      2.6222       1.5185       1.4914   \n",
       "1940                1360      2.0128       1.3010       1.2041   \n",
       "\n",
       "      Luminosity_Index  Maximum_of_Luminosity  ...  Steel_Plate_Thickness  \\\n",
       "0              -0.2913                    108  ...                     80   \n",
       "1              -0.1756                    123  ...                     80   \n",
       "2              -0.1228                    125  ...                    100   \n",
       "3              -0.1568                    126  ...                    290   \n",
       "4              -0.1992                    126  ...                    185   \n",
       "...                ...                    ...  ...                    ...   \n",
       "1936            0.0026                    141  ...                     40   \n",
       "1937           -0.0582                    133  ...                     40   \n",
       "1938            0.0052                    140  ...                     40   \n",
       "1939           -0.0171                    140  ...                     40   \n",
       "1940           -0.1139                    133  ...                     80   \n",
       "\n",
       "      Sum_of_Luminosity  TypeOfSteel_A300  TypeOfSteel_A400  X_Maximum  \\\n",
       "0                 24220              True             False         50   \n",
       "1                 11397              True             False        651   \n",
       "2                  7972              True             False        835   \n",
       "3                 18996             False              True        860   \n",
       "4                246930             False              True       1306   \n",
       "...                 ...               ...               ...        ...   \n",
       "1936              35033             False              True        277   \n",
       "1937              34599             False              True        175   \n",
       "1938              37572             False              True        174   \n",
       "1939              52715             False              True        170   \n",
       "1940              11682              True             False       1281   \n",
       "\n",
       "      X_Minimum  X_Perimeter  Y_Maximum  Y_Minimum  Y_Perimeter  \n",
       "0            42           17     270944     270900           44  \n",
       "1           645           10    2538108    2538079           30  \n",
       "2           829            8    1553931    1553913           19  \n",
       "3           853           13     369415     369370           45  \n",
       "4          1289           60     498335     498078          260  \n",
       "...         ...          ...        ...        ...          ...  \n",
       "1936        249           54     325796     325780           22  \n",
       "1937        144           44     340598     340581           24  \n",
       "1938        145           40     386794     386779           22  \n",
       "1939        137           97     422528     422497           47  \n",
       "1940       1261           26      87967      87951           22  \n",
       "\n",
       "[1941 rows x 27 columns]"
      ]
     },
     "execution_count": 6,
     "metadata": {},
     "output_type": "execute_result"
    }
   ],
   "source": [
    "X = df[feature_names]\n",
    "y = df['Fault']\n",
    "\n",
    "X"
   ]
  },
  {
   "cell_type": "code",
   "execution_count": null,
   "metadata": {},
   "outputs": [],
   "source": []
  },
  {
   "cell_type": "code",
   "execution_count": 7,
   "metadata": {},
   "outputs": [
    {
     "name": "stdout",
     "output_type": "stream",
     "text": [
      "TypeOfSteel_A300\n",
      "TypeOfSteel_A400\n"
     ]
    }
   ],
   "source": [
    "for f_name in feature_names:\n",
    "    \n",
    "    if df[f_name].dtype == bool:\n",
    "        print(f_name)"
   ]
  },
  {
   "cell_type": "code",
   "execution_count": null,
   "metadata": {},
   "outputs": [],
   "source": []
  },
  {
   "cell_type": "code",
   "execution_count": 8,
   "metadata": {},
   "outputs": [
    {
     "data": {
      "text/html": [
       "<div>\n",
       "<style scoped>\n",
       "    .dataframe tbody tr th:only-of-type {\n",
       "        vertical-align: middle;\n",
       "    }\n",
       "\n",
       "    .dataframe tbody tr th {\n",
       "        vertical-align: top;\n",
       "    }\n",
       "\n",
       "    .dataframe thead th {\n",
       "        text-align: right;\n",
       "    }\n",
       "</style>\n",
       "<table border=\"1\" class=\"dataframe\">\n",
       "  <thead>\n",
       "    <tr style=\"text-align: right;\">\n",
       "      <th></th>\n",
       "      <th>TypeOfSteel_A300</th>\n",
       "      <th>TypeOfSteel_A400</th>\n",
       "    </tr>\n",
       "  </thead>\n",
       "  <tbody>\n",
       "    <tr>\n",
       "      <th>0</th>\n",
       "      <td>True</td>\n",
       "      <td>False</td>\n",
       "    </tr>\n",
       "    <tr>\n",
       "      <th>1</th>\n",
       "      <td>True</td>\n",
       "      <td>False</td>\n",
       "    </tr>\n",
       "    <tr>\n",
       "      <th>2</th>\n",
       "      <td>True</td>\n",
       "      <td>False</td>\n",
       "    </tr>\n",
       "    <tr>\n",
       "      <th>3</th>\n",
       "      <td>False</td>\n",
       "      <td>True</td>\n",
       "    </tr>\n",
       "    <tr>\n",
       "      <th>4</th>\n",
       "      <td>False</td>\n",
       "      <td>True</td>\n",
       "    </tr>\n",
       "    <tr>\n",
       "      <th>...</th>\n",
       "      <td>...</td>\n",
       "      <td>...</td>\n",
       "    </tr>\n",
       "    <tr>\n",
       "      <th>1936</th>\n",
       "      <td>False</td>\n",
       "      <td>True</td>\n",
       "    </tr>\n",
       "    <tr>\n",
       "      <th>1937</th>\n",
       "      <td>False</td>\n",
       "      <td>True</td>\n",
       "    </tr>\n",
       "    <tr>\n",
       "      <th>1938</th>\n",
       "      <td>False</td>\n",
       "      <td>True</td>\n",
       "    </tr>\n",
       "    <tr>\n",
       "      <th>1939</th>\n",
       "      <td>False</td>\n",
       "      <td>True</td>\n",
       "    </tr>\n",
       "    <tr>\n",
       "      <th>1940</th>\n",
       "      <td>True</td>\n",
       "      <td>False</td>\n",
       "    </tr>\n",
       "  </tbody>\n",
       "</table>\n",
       "<p>1941 rows × 2 columns</p>\n",
       "</div>"
      ],
      "text/plain": [
       "      TypeOfSteel_A300  TypeOfSteel_A400\n",
       "0                 True             False\n",
       "1                 True             False\n",
       "2                 True             False\n",
       "3                False              True\n",
       "4                False              True\n",
       "...                ...               ...\n",
       "1936             False              True\n",
       "1937             False              True\n",
       "1938             False              True\n",
       "1939             False              True\n",
       "1940              True             False\n",
       "\n",
       "[1941 rows x 2 columns]"
      ]
     },
     "execution_count": 8,
     "metadata": {},
     "output_type": "execute_result"
    }
   ],
   "source": [
    "df[['TypeOfSteel_A300', 'TypeOfSteel_A400']]"
   ]
  },
  {
   "cell_type": "code",
   "execution_count": null,
   "metadata": {},
   "outputs": [],
   "source": []
  },
  {
   "cell_type": "code",
   "execution_count": 9,
   "metadata": {},
   "outputs": [
    {
     "data": {
      "text/plain": [
       "True"
      ]
     },
     "execution_count": 9,
     "metadata": {},
     "output_type": "execute_result"
    }
   ],
   "source": [
    "np.all(df['TypeOfSteel_A300'] == (~df['TypeOfSteel_A400']))"
   ]
  },
  {
   "cell_type": "code",
   "execution_count": null,
   "metadata": {},
   "outputs": [],
   "source": []
  },
  {
   "cell_type": "code",
   "execution_count": null,
   "metadata": {},
   "outputs": [],
   "source": []
  },
  {
   "cell_type": "code",
   "execution_count": 10,
   "metadata": {},
   "outputs": [],
   "source": [
    "scaler = StandardScaler()\n",
    "_ = scaler.fit(X)"
   ]
  },
  {
   "cell_type": "code",
   "execution_count": 11,
   "metadata": {},
   "outputs": [],
   "source": [
    "X_scaled = scaler.transform(X)"
   ]
  },
  {
   "cell_type": "code",
   "execution_count": null,
   "metadata": {},
   "outputs": [],
   "source": []
  },
  {
   "cell_type": "code",
   "execution_count": null,
   "metadata": {},
   "outputs": [],
   "source": []
  },
  {
   "cell_type": "markdown",
   "metadata": {},
   "source": [
    "## Split data"
   ]
  },
  {
   "cell_type": "code",
   "execution_count": 12,
   "metadata": {},
   "outputs": [],
   "source": [
    "X_train, X_test, y_train, y_test = train_test_split(X_scaled, y, test_size=0.25, random_state=42)"
   ]
  },
  {
   "cell_type": "code",
   "execution_count": 13,
   "metadata": {},
   "outputs": [
    {
     "data": {
      "text/plain": [
       "(1455, 27)"
      ]
     },
     "execution_count": 13,
     "metadata": {},
     "output_type": "execute_result"
    }
   ],
   "source": [
    "X_train.shape"
   ]
  },
  {
   "cell_type": "code",
   "execution_count": 14,
   "metadata": {},
   "outputs": [
    {
     "data": {
      "text/plain": [
       "(486, 27)"
      ]
     },
     "execution_count": 14,
     "metadata": {},
     "output_type": "execute_result"
    }
   ],
   "source": [
    "X_test.shape"
   ]
  },
  {
   "cell_type": "code",
   "execution_count": null,
   "metadata": {},
   "outputs": [],
   "source": []
  },
  {
   "cell_type": "markdown",
   "metadata": {},
   "source": [
    "## Grid search with cross validation"
   ]
  },
  {
   "cell_type": "code",
   "execution_count": null,
   "metadata": {},
   "outputs": [],
   "source": []
  },
  {
   "cell_type": "code",
   "execution_count": 15,
   "metadata": {},
   "outputs": [
    {
     "data": {
      "text/plain": [
       "GridSearchCV(cv=4, estimator=RandomForestClassifier(random_state=24),\n",
       "             param_grid={'criterion': ['gini', 'entropy'],\n",
       "                         'min_samples_leaf': (1, 2, 4, 8),\n",
       "                         'min_samples_split': (2, 4, 8, 16, 32),\n",
       "                         'n_estimators': [5, 10, 20]},\n",
       "             scoring='accuracy')"
      ]
     },
     "execution_count": 15,
     "metadata": {},
     "output_type": "execute_result"
    }
   ],
   "source": [
    "gs = GridSearchCV(\n",
    "    estimator=RandomForestClassifier(random_state=24),\n",
    "    param_grid={\n",
    "        'n_estimators': [5, 10, 20], \n",
    "        'min_samples_split': (2, 4, 8, 16, 32),\n",
    "        'min_samples_leaf': (1, 2, 4, 8),\n",
    "        'criterion': ['gini', 'entropy'],\n",
    "    },\n",
    "    scoring='accuracy',\n",
    "    cv=4,\n",
    ")\n",
    "\n",
    "gs.fit(X_scaled, y)"
   ]
  },
  {
   "cell_type": "code",
   "execution_count": null,
   "metadata": {},
   "outputs": [],
   "source": []
  },
  {
   "cell_type": "code",
   "execution_count": 16,
   "metadata": {},
   "outputs": [
    {
     "data": {
      "image/png": "[encoded data removed]",
      "text/plain": [
       "<Figure size 432x288 with 1 Axes>"
      ]
     },
     "metadata": {
      "needs_background": "light"
     },
     "output_type": "display_data"
    }
   ],
   "source": [
    "_ = plt.plot(sorted(gs.cv_results_['mean_test_score']))"
   ]
  },
  {
   "cell_type": "code",
   "execution_count": 17,
   "metadata": {},
   "outputs": [
    {
     "data": {
      "text/plain": [
       "0.6311569301260023"
      ]
     },
     "execution_count": 17,
     "metadata": {},
     "output_type": "execute_result"
    }
   ],
   "source": [
    "gs.best_score_"
   ]
  },
  {
   "cell_type": "code",
   "execution_count": null,
   "metadata": {},
   "outputs": [],
   "source": []
  },
  {
   "cell_type": "code",
   "execution_count": 18,
   "metadata": {},
   "outputs": [
    {
     "data": {
      "text/plain": [
       "{'criterion': 'entropy',\n",
       " 'min_samples_leaf': 4,\n",
       " 'min_samples_split': 16,\n",
       " 'n_estimators': 20}"
      ]
     },
     "execution_count": 18,
     "metadata": {},
     "output_type": "execute_result"
    }
   ],
   "source": [
    "gs.best_params_"
   ]
  },
  {
   "cell_type": "code",
   "execution_count": null,
   "metadata": {},
   "outputs": [],
   "source": []
  },
  {
   "cell_type": "code",
   "execution_count": 19,
   "metadata": {},
   "outputs": [
    {
     "data": {
      "text/plain": [
       "RandomForestClassifier(criterion='entropy', min_samples_leaf=4,\n",
       "                       min_samples_split=16, n_estimators=20, random_state=24)"
      ]
     },
     "execution_count": 19,
     "metadata": {},
     "output_type": "execute_result"
    }
   ],
   "source": [
    "estimator = RandomForestClassifier(random_state=24, **gs.best_params_)\n",
    "\n",
    "estimator.fit(X_train, y_train)"
   ]
  },
  {
   "cell_type": "code",
   "execution_count": 20,
   "metadata": {},
   "outputs": [
    {
     "data": {
      "text/plain": [
       "0.7469135802469136"
      ]
     },
     "execution_count": 20,
     "metadata": {},
     "output_type": "execute_result"
    }
   ],
   "source": [
    "y_pred = estimator.predict(X_test)\n",
    "acc = accuracy_score(y_test, y_pred)\n",
    "\n",
    "acc"
   ]
  },
  {
   "cell_type": "code",
   "execution_count": null,
   "metadata": {},
   "outputs": [],
   "source": []
  },
  {
   "cell_type": "code",
   "execution_count": 21,
   "metadata": {},
   "outputs": [
    {
     "data": {
      "text/plain": [
       "array([0.02444537, 0.02267821, 0.02990144, 0.01727758, 0.07498757,\n",
       "       0.06344717, 0.03511933, 0.01180254, 0.02864399, 0.01830184,\n",
       "       0.02723379, 0.04691902, 0.00342931, 0.06462733, 0.04640528,\n",
       "       0.02747573, 0.02772492, 0.06901921, 0.06818912, 0.03151688,\n",
       "       0.04382769, 0.04721956, 0.03838847, 0.04556937, 0.02543234,\n",
       "       0.03037345, 0.03004352])"
      ]
     },
     "execution_count": 21,
     "metadata": {},
     "output_type": "execute_result"
    }
   ],
   "source": [
    "estimator.feature_importances_"
   ]
  },
  {
   "cell_type": "code",
   "execution_count": null,
   "metadata": {},
   "outputs": [],
   "source": []
  },
  {
   "cell_type": "code",
   "execution_count": 22,
   "metadata": {},
   "outputs": [
    {
     "data": {
      "text/html": [
       "<div>\n",
       "<style scoped>\n",
       "    .dataframe tbody tr th:only-of-type {\n",
       "        vertical-align: middle;\n",
       "    }\n",
       "\n",
       "    .dataframe tbody tr th {\n",
       "        vertical-align: top;\n",
       "    }\n",
       "\n",
       "    .dataframe thead th {\n",
       "        text-align: right;\n",
       "    }\n",
       "</style>\n",
       "<table border=\"1\" class=\"dataframe\">\n",
       "  <thead>\n",
       "    <tr style=\"text-align: right;\">\n",
       "      <th></th>\n",
       "      <th>importance</th>\n",
       "    </tr>\n",
       "    <tr>\n",
       "      <th>feature_name</th>\n",
       "      <th></th>\n",
       "    </tr>\n",
       "  </thead>\n",
       "  <tbody>\n",
       "    <tr>\n",
       "      <th>Length_of_Conveyer</th>\n",
       "      <td>0.074988</td>\n",
       "    </tr>\n",
       "    <tr>\n",
       "      <th>Steel_Plate_Thickness</th>\n",
       "      <td>0.069019</td>\n",
       "    </tr>\n",
       "    <tr>\n",
       "      <th>Sum_of_Luminosity</th>\n",
       "      <td>0.068189</td>\n",
       "    </tr>\n",
       "    <tr>\n",
       "      <th>Outside_X_Index</th>\n",
       "      <td>0.064627</td>\n",
       "    </tr>\n",
       "    <tr>\n",
       "      <th>LogOfAreas</th>\n",
       "      <td>0.063447</td>\n",
       "    </tr>\n",
       "    <tr>\n",
       "      <th>X_Maximum</th>\n",
       "      <td>0.047220</td>\n",
       "    </tr>\n",
       "    <tr>\n",
       "      <th>Orientation_Index</th>\n",
       "      <td>0.046919</td>\n",
       "    </tr>\n",
       "    <tr>\n",
       "      <th>Pixels_Areas</th>\n",
       "      <td>0.046405</td>\n",
       "    </tr>\n",
       "    <tr>\n",
       "      <th>X_Perimeter</th>\n",
       "      <td>0.045569</td>\n",
       "    </tr>\n",
       "    <tr>\n",
       "      <th>TypeOfSteel_A400</th>\n",
       "      <td>0.043828</td>\n",
       "    </tr>\n",
       "    <tr>\n",
       "      <th>X_Minimum</th>\n",
       "      <td>0.038388</td>\n",
       "    </tr>\n",
       "    <tr>\n",
       "      <th>Log_X_Index</th>\n",
       "      <td>0.035119</td>\n",
       "    </tr>\n",
       "    <tr>\n",
       "      <th>TypeOfSteel_A300</th>\n",
       "      <td>0.031517</td>\n",
       "    </tr>\n",
       "    <tr>\n",
       "      <th>Y_Minimum</th>\n",
       "      <td>0.030373</td>\n",
       "    </tr>\n",
       "    <tr>\n",
       "      <th>Y_Perimeter</th>\n",
       "      <td>0.030044</td>\n",
       "    </tr>\n",
       "    <tr>\n",
       "      <th>Edges_Y_Index</th>\n",
       "      <td>0.029901</td>\n",
       "    </tr>\n",
       "    <tr>\n",
       "      <th>Luminosity_Index</th>\n",
       "      <td>0.028644</td>\n",
       "    </tr>\n",
       "    <tr>\n",
       "      <th>Square_Index</th>\n",
       "      <td>0.027725</td>\n",
       "    </tr>\n",
       "    <tr>\n",
       "      <th>SigmoidOfAreas</th>\n",
       "      <td>0.027476</td>\n",
       "    </tr>\n",
       "    <tr>\n",
       "      <th>Minimum_of_Luminosity</th>\n",
       "      <td>0.027234</td>\n",
       "    </tr>\n",
       "    <tr>\n",
       "      <th>Y_Maximum</th>\n",
       "      <td>0.025432</td>\n",
       "    </tr>\n",
       "    <tr>\n",
       "      <th>Edges_Index</th>\n",
       "      <td>0.024445</td>\n",
       "    </tr>\n",
       "    <tr>\n",
       "      <th>Edges_X_Index</th>\n",
       "      <td>0.022678</td>\n",
       "    </tr>\n",
       "    <tr>\n",
       "      <th>Maximum_of_Luminosity</th>\n",
       "      <td>0.018302</td>\n",
       "    </tr>\n",
       "    <tr>\n",
       "      <th>Empty_Index</th>\n",
       "      <td>0.017278</td>\n",
       "    </tr>\n",
       "    <tr>\n",
       "      <th>Log_Y_Index</th>\n",
       "      <td>0.011803</td>\n",
       "    </tr>\n",
       "    <tr>\n",
       "      <th>Outside_Global_Index</th>\n",
       "      <td>0.003429</td>\n",
       "    </tr>\n",
       "  </tbody>\n",
       "</table>\n",
       "</div>"
      ],
      "text/plain": [
       "                       importance\n",
       "feature_name                     \n",
       "Length_of_Conveyer       0.074988\n",
       "Steel_Plate_Thickness    0.069019\n",
       "Sum_of_Luminosity        0.068189\n",
       "Outside_X_Index          0.064627\n",
       "LogOfAreas               0.063447\n",
       "X_Maximum                0.047220\n",
       "Orientation_Index        0.046919\n",
       "Pixels_Areas             0.046405\n",
       "X_Perimeter              0.045569\n",
       "TypeOfSteel_A400         0.043828\n",
       "X_Minimum                0.038388\n",
       "Log_X_Index              0.035119\n",
       "TypeOfSteel_A300         0.031517\n",
       "Y_Minimum                0.030373\n",
       "Y_Perimeter              0.030044\n",
       "Edges_Y_Index            0.029901\n",
       "Luminosity_Index         0.028644\n",
       "Square_Index             0.027725\n",
       "SigmoidOfAreas           0.027476\n",
       "Minimum_of_Luminosity    0.027234\n",
       "Y_Maximum                0.025432\n",
       "Edges_Index              0.024445\n",
       "Edges_X_Index            0.022678\n",
       "Maximum_of_Luminosity    0.018302\n",
       "Empty_Index              0.017278\n",
       "Log_Y_Index              0.011803\n",
       "Outside_Global_Index     0.003429"
      ]
     },
     "execution_count": 22,
     "metadata": {},
     "output_type": "execute_result"
    }
   ],
   "source": [
    "importances = []\n",
    "\n",
    "for i, feature_name in enumerate(X.columns):\n",
    "    \n",
    "    imp = estimator.feature_importances_[i]\n",
    "    \n",
    "    entry = (feature_name, imp)\n",
    "    importances.append(entry)\n",
    "    \n",
    "\n",
    "pd.DataFrame(importances, columns=['feature_name', 'importance']) \\\n",
    "    .sort_values(by='importance', ascending=False).set_index('feature_name')"
   ]
  },
  {
   "cell_type": "code",
   "execution_count": null,
   "metadata": {},
   "outputs": [],
   "source": []
  }
 ],
 "metadata": {
  "kernelspec": {
   "display_name": "Python 3",
   "language": "python",
   "name": "python3"
  },
  "language_info": {
   "codemirror_mode": {
    "name": "ipython",
    "version": 3
   },
   "file_extension": ".py",
   "mimetype": "text/x-python",
   "name": "python",
   "nbconvert_exporter": "python",
   "pygments_lexer": "ipython3",
   "version": "3.7.6"
  }
 },
 "nbformat": 4,
 "nbformat_minor": 4
}
