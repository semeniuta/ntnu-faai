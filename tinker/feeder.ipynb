{
 "cells": [
  {
   "cell_type": "code",
   "execution_count": 1,
   "metadata": {
    "scrolled": true
   },
   "outputs": [],
   "source": [
    "%matplotlib inline\n",
    "%load_ext autoreload\n",
    "%autoreload 2"
   ]
  },
  {
   "cell_type": "code",
   "execution_count": null,
   "metadata": {},
   "outputs": [],
   "source": []
  },
  {
   "cell_type": "code",
   "execution_count": 2,
   "metadata": {},
   "outputs": [],
   "source": [
    "import sys\n",
    "import numpy as np\n",
    "import pandas as pd\n",
    "import random\n",
    "from matplotlib import pyplot as plt\n",
    "\n",
    "pd.options.display.float_format = '{:.3f}'.format"
   ]
  },
  {
   "cell_type": "code",
   "execution_count": 3,
   "metadata": {},
   "outputs": [],
   "source": [
    "ROOT_DIR = '..'\n",
    "if ROOT_DIR not in sys.path:\n",
    "    sys.path.append(ROOT_DIR)\n",
    "\n",
    "import faai"
   ]
  },
  {
   "cell_type": "code",
   "execution_count": null,
   "metadata": {},
   "outputs": [],
   "source": []
  },
  {
   "cell_type": "code",
   "execution_count": 4,
   "metadata": {},
   "outputs": [],
   "source": [
    "def lego_brick():\n",
    "    \n",
    "    L = 31.8\n",
    "    W = 15.8\n",
    "\n",
    "    corners = np.array([[0, 0], [L, 0], [L, W], [0, W]])\n",
    "    \n",
    "    return corners.T\n",
    "\n",
    "\n",
    "def viz_rectangle(corners, **fill_kwargs):    \n",
    "    plt.fill(corners[0, :], corners[1, :], **fill_kwargs)\n",
    "    \n",
    "    \n",
    "def generate_poses(n, xrange, yrange, random_seed=None):\n",
    "    \n",
    "    xmin, xmax = xrange\n",
    "    ymin, ymax = yrange\n",
    "    \n",
    "    if random_seed is not None:\n",
    "        np.random.seed(random_seed)\n",
    "    \n",
    "    gen = []\n",
    "    \n",
    "    for i in range(n):\n",
    "    \n",
    "        x = np.random.random() * (xmax - xmin) + xmin\n",
    "        y = np.random.random() * (ymax - ymin) + ymin\n",
    "        \n",
    "        theta = np.random.random() * (2 * np.pi)\n",
    "        \n",
    "        triple = (x, y, theta)\n",
    "        gen.append(triple)\n",
    "        \n",
    "    return pd.DataFrame(gen, columns=['x', 'y', 'theta'])"
   ]
  },
  {
   "cell_type": "code",
   "execution_count": null,
   "metadata": {},
   "outputs": [],
   "source": []
  },
  {
   "cell_type": "code",
   "execution_count": null,
   "metadata": {},
   "outputs": [],
   "source": []
  },
  {
   "cell_type": "code",
   "execution_count": 5,
   "metadata": {},
   "outputs": [
    {
     "name": "stdout",
     "output_type": "stream",
     "text": [
      "[[ 0.  31.8 31.8  0. ]\n",
      " [ 0.   0.  15.8 15.8]]\n",
      "\n",
      "[[ 0.  31.8 31.8  0. ]\n",
      " [ 0.   0.  15.8 15.8]\n",
      " [ 1.   1.   1.   1. ]]\n"
     ]
    }
   ],
   "source": [
    "brick = lego_brick()\n",
    "brick_h = faai.e2h(brick)\n",
    "\n",
    "print(brick)\n",
    "print()\n",
    "print(brick_h)"
   ]
  },
  {
   "cell_type": "code",
   "execution_count": null,
   "metadata": {},
   "outputs": [],
   "source": []
  },
  {
   "cell_type": "code",
   "execution_count": 6,
   "metadata": {},
   "outputs": [
    {
     "data": {
      "text/plain": [
       "array([[ 0. , 31.8, 31.8,  0. ],\n",
       "       [ 0. ,  0. , 15.8, 15.8]])"
      ]
     },
     "execution_count": 6,
     "metadata": {},
     "output_type": "execute_result"
    }
   ],
   "source": [
    "faai.h2e(brick_h)"
   ]
  },
  {
   "cell_type": "code",
   "execution_count": null,
   "metadata": {},
   "outputs": [],
   "source": []
  },
  {
   "cell_type": "code",
   "execution_count": 7,
   "metadata": {},
   "outputs": [
    {
     "data": {
      "text/html": [
       "<div>\n",
       "<style scoped>\n",
       "    .dataframe tbody tr th:only-of-type {\n",
       "        vertical-align: middle;\n",
       "    }\n",
       "\n",
       "    .dataframe tbody tr th {\n",
       "        vertical-align: top;\n",
       "    }\n",
       "\n",
       "    .dataframe thead th {\n",
       "        text-align: right;\n",
       "    }\n",
       "</style>\n",
       "<table border=\"1\" class=\"dataframe\">\n",
       "  <thead>\n",
       "    <tr style=\"text-align: right;\">\n",
       "      <th></th>\n",
       "      <th>x</th>\n",
       "      <th>y</th>\n",
       "      <th>theta</th>\n",
       "    </tr>\n",
       "  </thead>\n",
       "  <tbody>\n",
       "    <tr>\n",
       "      <th>0</th>\n",
       "      <td>80.095</td>\n",
       "      <td>105.037</td>\n",
       "      <td>0.420</td>\n",
       "    </tr>\n",
       "    <tr>\n",
       "      <th>1</th>\n",
       "      <td>306.930</td>\n",
       "      <td>84.413</td>\n",
       "      <td>4.657</td>\n",
       "    </tr>\n",
       "    <tr>\n",
       "      <th>2</th>\n",
       "      <td>161.333</td>\n",
       "      <td>92.124</td>\n",
       "      <td>6.097</td>\n",
       "    </tr>\n",
       "    <tr>\n",
       "      <th>3</th>\n",
       "      <td>302.814</td>\n",
       "      <td>133.623</td>\n",
       "      <td>4.683</td>\n",
       "    </tr>\n",
       "    <tr>\n",
       "      <th>4</th>\n",
       "      <td>249.243</td>\n",
       "      <td>97.415</td>\n",
       "      <td>1.160</td>\n",
       "    </tr>\n",
       "    <tr>\n",
       "      <th>5</th>\n",
       "      <td>120.529</td>\n",
       "      <td>166.940</td>\n",
       "      <td>3.841</td>\n",
       "    </tr>\n",
       "    <tr>\n",
       "      <th>6</th>\n",
       "      <td>205.165</td>\n",
       "      <td>157.944</td>\n",
       "      <td>3.681</td>\n",
       "    </tr>\n",
       "    <tr>\n",
       "      <th>7</th>\n",
       "      <td>340.886</td>\n",
       "      <td>200.224</td>\n",
       "      <td>3.246</td>\n",
       "    </tr>\n",
       "    <tr>\n",
       "      <th>8</th>\n",
       "      <td>240.637</td>\n",
       "      <td>173.087</td>\n",
       "      <td>2.559</td>\n",
       "    </tr>\n",
       "    <tr>\n",
       "      <th>9</th>\n",
       "      <td>276.251</td>\n",
       "      <td>43.807</td>\n",
       "      <td>4.105</td>\n",
       "    </tr>\n",
       "  </tbody>\n",
       "</table>\n",
       "</div>"
      ],
      "text/plain": [
       "        x       y  theta\n",
       "0  80.095 105.037  0.420\n",
       "1 306.930  84.413  4.657\n",
       "2 161.333  92.124  6.097\n",
       "3 302.814 133.623  4.683\n",
       "4 249.243  97.415  1.160\n",
       "5 120.529 166.940  3.841\n",
       "6 205.165 157.944  3.681\n",
       "7 340.886 200.224  3.246\n",
       "8 240.637 173.087  2.559\n",
       "9 276.251  43.807  4.105"
      ]
     },
     "execution_count": 7,
     "metadata": {},
     "output_type": "execute_result"
    }
   ],
   "source": [
    "poses_df = generate_poses(10, (30, 350), (30, 210), random_seed=700)\n",
    "\n",
    "poses_df"
   ]
  },
  {
   "cell_type": "code",
   "execution_count": null,
   "metadata": {},
   "outputs": [],
   "source": []
  },
  {
   "cell_type": "code",
   "execution_count": 8,
   "metadata": {},
   "outputs": [
    {
     "data": {
      "text/html": [
       "<div>\n",
       "<style scoped>\n",
       "    .dataframe tbody tr th:only-of-type {\n",
       "        vertical-align: middle;\n",
       "    }\n",
       "\n",
       "    .dataframe tbody tr th {\n",
       "        vertical-align: top;\n",
       "    }\n",
       "\n",
       "    .dataframe thead th {\n",
       "        text-align: right;\n",
       "    }\n",
       "</style>\n",
       "<table border=\"1\" class=\"dataframe\">\n",
       "  <thead>\n",
       "    <tr style=\"text-align: right;\">\n",
       "      <th></th>\n",
       "      <th>x</th>\n",
       "      <th>y</th>\n",
       "      <th>theta</th>\n",
       "    </tr>\n",
       "  </thead>\n",
       "  <tbody>\n",
       "    <tr>\n",
       "      <th>0</th>\n",
       "      <td>80.095</td>\n",
       "      <td>105.037</td>\n",
       "      <td>24.050</td>\n",
       "    </tr>\n",
       "    <tr>\n",
       "      <th>1</th>\n",
       "      <td>306.930</td>\n",
       "      <td>84.413</td>\n",
       "      <td>266.852</td>\n",
       "    </tr>\n",
       "    <tr>\n",
       "      <th>2</th>\n",
       "      <td>161.333</td>\n",
       "      <td>92.124</td>\n",
       "      <td>349.339</td>\n",
       "    </tr>\n",
       "    <tr>\n",
       "      <th>3</th>\n",
       "      <td>302.814</td>\n",
       "      <td>133.623</td>\n",
       "      <td>268.309</td>\n",
       "    </tr>\n",
       "    <tr>\n",
       "      <th>4</th>\n",
       "      <td>249.243</td>\n",
       "      <td>97.415</td>\n",
       "      <td>66.468</td>\n",
       "    </tr>\n",
       "    <tr>\n",
       "      <th>5</th>\n",
       "      <td>120.529</td>\n",
       "      <td>166.940</td>\n",
       "      <td>220.060</td>\n",
       "    </tr>\n",
       "    <tr>\n",
       "      <th>6</th>\n",
       "      <td>205.165</td>\n",
       "      <td>157.944</td>\n",
       "      <td>210.888</td>\n",
       "    </tr>\n",
       "    <tr>\n",
       "      <th>7</th>\n",
       "      <td>340.886</td>\n",
       "      <td>200.224</td>\n",
       "      <td>186.000</td>\n",
       "    </tr>\n",
       "    <tr>\n",
       "      <th>8</th>\n",
       "      <td>240.637</td>\n",
       "      <td>173.087</td>\n",
       "      <td>146.595</td>\n",
       "    </tr>\n",
       "    <tr>\n",
       "      <th>9</th>\n",
       "      <td>276.251</td>\n",
       "      <td>43.807</td>\n",
       "      <td>235.180</td>\n",
       "    </tr>\n",
       "  </tbody>\n",
       "</table>\n",
       "</div>"
      ],
      "text/plain": [
       "        x       y   theta\n",
       "0  80.095 105.037  24.050\n",
       "1 306.930  84.413 266.852\n",
       "2 161.333  92.124 349.339\n",
       "3 302.814 133.623 268.309\n",
       "4 249.243  97.415  66.468\n",
       "5 120.529 166.940 220.060\n",
       "6 205.165 157.944 210.888\n",
       "7 340.886 200.224 186.000\n",
       "8 240.637 173.087 146.595\n",
       "9 276.251  43.807 235.180"
      ]
     },
     "execution_count": 8,
     "metadata": {},
     "output_type": "execute_result"
    }
   ],
   "source": [
    "poses_df_deg = poses_df.copy()\n",
    "poses_df_deg['theta'] = poses_df_deg['theta'].apply(np.rad2deg)\n",
    "\n",
    "poses_df_deg"
   ]
  },
  {
   "cell_type": "code",
   "execution_count": null,
   "metadata": {},
   "outputs": [],
   "source": []
  },
  {
   "cell_type": "code",
   "execution_count": 9,
   "metadata": {},
   "outputs": [
    {
     "data": {
      "image/png": "[encoded data removed]",
      "text/plain": [
       "<Figure size 504x504 with 1 Axes>"
      ]
     },
     "metadata": {
      "needs_background": "light"
     },
     "output_type": "display_data"
    }
   ],
   "source": [
    "brick = lego_brick()\n",
    "brick_h = faai.e2h(brick)\n",
    "\n",
    "plt.figure(figsize=(7, 7))\n",
    "\n",
    "plt.axis('equal')\n",
    "plt.gca().set_adjustable('box')\n",
    "plt.grid(color='gray', linestyle='--', linewidth=1, alpha=0.5)\n",
    "plt.xlim((0, 400))\n",
    "plt.ylim((0, 250))\n",
    "\n",
    "for _, row in poses_df.iterrows():\n",
    "    \n",
    "    x, y, theta = row\n",
    "    \n",
    "    T = faai.se2([x, y], theta)\n",
    "\n",
    "    brick_transformed_h = np.dot(T, brick_h)\n",
    "    brick_transformed = faai.h2e(brick_transformed_h)\n",
    "    viz_rectangle(brick_transformed, color='blue')\n",
    "\n",
    "plt.xlabel('x')\n",
    "plt.ylabel('y')\n",
    "\n",
    "plt.show()"
   ]
  },
  {
   "cell_type": "code",
   "execution_count": null,
   "metadata": {},
   "outputs": [],
   "source": []
  }
 ],
 "metadata": {
  "kernelspec": {
   "display_name": "Python 3",
   "language": "python",
   "name": "python3"
  },
  "language_info": {
   "codemirror_mode": {
    "name": "ipython",
    "version": 3
   },
   "file_extension": ".py",
   "mimetype": "text/x-python",
   "name": "python",
   "nbconvert_exporter": "python",
   "pygments_lexer": "ipython3",
   "version": "3.7.6"
  }
 },
 "nbformat": 4,
 "nbformat_minor": 2
}
