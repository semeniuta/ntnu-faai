{
 "cells": [
  {
   "cell_type": "markdown",
   "metadata": {},
   "source": [
    "FOPDT based on the model for vehicle velocity."
   ]
  },
  {
   "cell_type": "code",
   "execution_count": 1,
   "metadata": {},
   "outputs": [],
   "source": [
    "%matplotlib inline\n",
    "%load_ext autoreload\n",
    "%autoreload 2"
   ]
  },
  {
   "cell_type": "code",
   "execution_count": 2,
   "metadata": {},
   "outputs": [
    {
     "data": {
      "application/javascript": [
       "IPython.OutputArea.prototype._should_scroll = function(lines) {\n",
       "    return false;\n",
       "}\n"
      ],
      "text/plain": [
       "<IPython.core.display.Javascript object>"
      ]
     },
     "metadata": {},
     "output_type": "display_data"
    }
   ],
   "source": [
    "%%javascript\n",
    "IPython.OutputArea.prototype._should_scroll = function(lines) {\n",
    "    return false;\n",
    "}"
   ]
  },
  {
   "cell_type": "markdown",
   "metadata": {},
   "source": [
    "## Imports and helpers"
   ]
  },
  {
   "cell_type": "code",
   "execution_count": 3,
   "metadata": {},
   "outputs": [],
   "source": [
    "import numpy as np\n",
    "from scipy.integrate import odeint\n",
    "from matplotlib import pyplot as plt\n",
    "from scipy import constants"
   ]
  },
  {
   "cell_type": "code",
   "execution_count": 4,
   "metadata": {},
   "outputs": [],
   "source": [
    "def eval_model(model, xs):\n",
    "    return np.array(list(map(model, xs)))"
   ]
  },
  {
   "cell_type": "code",
   "execution_count": null,
   "metadata": {},
   "outputs": [],
   "source": []
  },
  {
   "cell_type": "markdown",
   "metadata": {},
   "source": [
    "## Mathematical model"
   ]
  },
  {
   "cell_type": "markdown",
   "metadata": {},
   "source": [
    "$\\frac{dv(t)}{dt} = \\frac{1}{m} [ F_p u(t) - \\frac{1}{2} \\rho A C_d v(t)^2 ] - g sin(\\theta)$"
   ]
  },
  {
   "cell_type": "code",
   "execution_count": 5,
   "metadata": {},
   "outputs": [],
   "source": [
    "# Mass (car + load), kg\n",
    "m = 700\n",
    "\n",
    "# Thrust parameter, (N / %pedal)\n",
    "F_p = 30\n",
    "\n",
    "# Air density, kg/m^3\n",
    "rho = 1.225 \n",
    "\n",
    "# vehicle cross-sectional area (m^2)\n",
    "A = 5\n",
    "\n",
    "# Drag coefficient\n",
    "C_d = 0.24\n",
    "\n",
    "def vehicle_model(v, t, u_func, theta_func):\n",
    "    \n",
    "    u = u_func(t)\n",
    "    theta = theta_func(t)\n",
    "        \n",
    "    drive = F_p * u\n",
    "    drag = 0.5 * rho * A * C_d * (v**2)\n",
    "    slope = constants.g * np.sin(theta)\n",
    "    \n",
    "    return (1. / m) * (drive - drag) - slope\n",
    "    "
   ]
  },
  {
   "cell_type": "code",
   "execution_count": null,
   "metadata": {},
   "outputs": [],
   "source": []
  },
  {
   "cell_type": "markdown",
   "metadata": {},
   "source": [
    "## Simulation"
   ]
  },
  {
   "cell_type": "code",
   "execution_count": 6,
   "metadata": {},
   "outputs": [],
   "source": [
    "t = np.linspace(0, 200, 100)"
   ]
  },
  {
   "cell_type": "code",
   "execution_count": null,
   "metadata": {},
   "outputs": [],
   "source": []
  },
  {
   "cell_type": "code",
   "execution_count": 7,
   "metadata": {},
   "outputs": [],
   "source": [
    "step_t = 25\n",
    "step_val = 50\n",
    "\n",
    "# input function\n",
    "def step_input(t):\n",
    "    return 0 if t < step_t else step_val\n",
    "\n",
    "# disturbance function\n",
    "def no_slope(t):\n",
    "    return 0"
   ]
  },
  {
   "cell_type": "code",
   "execution_count": null,
   "metadata": {},
   "outputs": [],
   "source": []
  },
  {
   "cell_type": "markdown",
   "metadata": {},
   "source": [
    "The original model"
   ]
  },
  {
   "cell_type": "code",
   "execution_count": 8,
   "metadata": {},
   "outputs": [
    {
     "data": {
      "image/png": "[encoded data removed]",
      "text/plain": [
       "<Figure size 432x288 with 1 Axes>"
      ]
     },
     "metadata": {
      "needs_background": "light"
     },
     "output_type": "display_data"
    }
   ],
   "source": [
    "initial = 0\n",
    "\n",
    "v_sim = odeint(vehicle_model, initial, t, args=(step_input, no_slope))\n",
    "\n",
    "plt.plot(t, v_sim)\n",
    "plt.plot(t, eval_model(step_input, t), color='gray', alpha=0.5)\n",
    "\n",
    "plt.xlabel('$t$, s')\n",
    "plt.ylabel('$v$, m/s')\n",
    "plt.show()"
   ]
  },
  {
   "cell_type": "code",
   "execution_count": null,
   "metadata": {},
   "outputs": [],
   "source": []
  },
  {
   "cell_type": "markdown",
   "metadata": {},
   "source": [
    "FOPDT model with manual tuning"
   ]
  },
  {
   "cell_type": "markdown",
   "metadata": {},
   "source": [
    "$\\tau \\frac{dy(t)}{dt} = -y(t) + K u(t - \\theta) $"
   ]
  },
  {
   "cell_type": "code",
   "execution_count": 9,
   "metadata": {},
   "outputs": [],
   "source": [
    "def create_fopdt(K, tau, theta, u_func):\n",
    "    \n",
    "    def model(y, t):\n",
    "        \n",
    "        u = u_func(t - theta)\n",
    "        \n",
    "        return (1. / tau) * (-y + K * u)\n",
    "    \n",
    "    return model"
   ]
  },
  {
   "cell_type": "code",
   "execution_count": null,
   "metadata": {},
   "outputs": [],
   "source": []
  },
  {
   "cell_type": "code",
   "execution_count": 10,
   "metadata": {},
   "outputs": [
    {
     "data": {
      "image/png": "[encoded data removed]",
      "text/plain": [
       "<Figure size 1008x288 with 1 Axes>"
      ]
     },
     "metadata": {
      "needs_background": "light"
     },
     "output_type": "display_data"
    }
   ],
   "source": [
    "# Gain\n",
    "gain = 0.9\n",
    "\n",
    "# Time constant\n",
    "time_const = 14.\n",
    "\n",
    "# Deadtime (delay)\n",
    "delay = 0.5\n",
    "\n",
    "fopdt_model = create_fopdt(gain, time_const, delay, u_func=step_input)\n",
    "\n",
    "fopdt_sim = odeint(fopdt_model, 0, t)\n",
    "\n",
    "plt.figure(figsize=(14, 4))\n",
    "plt.plot(t, v_sim, label='Original model')\n",
    "plt.plot(t, fopdt_sim, label='FOPDT model')\n",
    "plt.legend()\n",
    "plt.xlabel('$t$, s')\n",
    "plt.ylabel('$v$, m/s')\n",
    "plt.show()"
   ]
  },
  {
   "cell_type": "code",
   "execution_count": null,
   "metadata": {},
   "outputs": [],
   "source": []
  },
  {
   "cell_type": "markdown",
   "metadata": {},
   "source": [
    "Comparing simulated results of the original model and the FOPDT model"
   ]
  },
  {
   "cell_type": "code",
   "execution_count": 11,
   "metadata": {},
   "outputs": [
    {
     "data": {
      "text/plain": [
       "array([[ 0.        ,  0.        ],\n",
       "       [ 0.        ,  0.        ],\n",
       "       [ 0.        ,  0.        ],\n",
       "       [ 0.        ,  0.        ],\n",
       "       [ 0.        ,  0.        ],\n",
       "       [ 0.        ,  0.        ],\n",
       "       [ 0.        ,  0.        ],\n",
       "       [ 0.        ,  0.        ],\n",
       "       [ 0.        ,  0.        ],\n",
       "       [ 0.        ,  0.        ],\n",
       "       [ 0.        ,  0.        ],\n",
       "       [ 0.        ,  0.        ],\n",
       "       [ 0.        ,  0.        ],\n",
       "       [ 2.70239734,  2.3857295 ],\n",
       "       [ 6.97831947,  8.11189868],\n",
       "       [11.12987415, 13.06863047],\n",
       "       [15.09049384, 17.35931582],\n",
       "       [18.80614393, 21.07345273],\n",
       "       [22.23755514, 24.28851328],\n",
       "       [25.36072568, 27.07155943],\n",
       "       [28.16594808, 29.48064177],\n",
       "       [30.65577747, 31.56601065],\n",
       "       [32.84243422, 33.37116413],\n",
       "       [34.74507578, 34.93375533],\n",
       "       [36.38725492, 36.28637795],\n",
       "       [37.79476166, 37.45724552],\n",
       "       [38.99392674, 38.47078119],\n",
       "       [40.01038655, 39.34812605],\n",
       "       [40.86825617, 40.10758023],\n",
       "       [41.58963766, 40.76498497],\n",
       "       [42.19438438, 41.33405284],\n",
       "       [42.70004887, 41.82665386],\n",
       "       [43.12195422, 42.25306302],\n",
       "       [43.47334166, 42.62217467],\n",
       "       [43.76555934, 42.94168803],\n",
       "       [44.00826805, 43.21826771],\n",
       "       [44.20964722, 43.45768281],\n",
       "       [44.3765911 , 43.6649272 ],\n",
       "       [44.51488949, 43.84432372],\n",
       "       [44.62939007, 43.99961436],\n",
       "       [44.72414151, 44.13403827],\n",
       "       [44.80251845, 44.25039936],\n",
       "       [44.867329  , 44.35112477],\n",
       "       [44.92090653, 44.43831548],\n",
       "       [44.96518785, 44.51379021],\n",
       "       [45.00177912, 44.57912323],\n",
       "       [45.03201093, 44.63567732],\n",
       "       [45.05698537, 44.68463212],\n",
       "       [45.07761453, 44.72700876],\n",
       "       [45.09465295, 44.76369117],\n",
       "       [45.10872455, 44.79544448],\n",
       "       [45.12034528, 44.82293103],\n",
       "       [45.12994155, 44.84672416],\n",
       "       [45.13786569, 44.86732015],\n",
       "       [45.14440884, 44.88514861],\n",
       "       [45.14981154, 44.90058142],\n",
       "       [45.15427246, 44.91394051],\n",
       "       [45.1579557 , 44.92550452],\n",
       "       [45.16099678, 44.93551466],\n",
       "       [45.16350762, 44.94417971],\n",
       "       [45.16558067, 44.9516804 ],\n",
       "       [45.16729223, 44.95817322],\n",
       "       [45.16870533, 44.96379358],\n",
       "       [45.16987202, 44.96865872],\n",
       "       [45.17083526, 44.97287012],\n",
       "       [45.17163047, 44.97651563],\n",
       "       [45.17228701, 44.97967129],\n",
       "       [45.17282904, 44.9824029 ],\n",
       "       [45.17327658, 44.98476746],\n",
       "       [45.17364607, 44.9868143 ],\n",
       "       [45.1739511 , 44.98858609],\n",
       "       [45.17420295, 44.9901198 ],\n",
       "       [45.17441087, 44.99144743],\n",
       "       [45.17458251, 44.99259665],\n",
       "       [45.17472424, 44.99359146],\n",
       "       [45.17484125, 44.99445259],\n",
       "       [45.17493787, 44.99519801],\n",
       "       [45.17501762, 44.99584327],\n",
       "       [45.17508347, 44.99640184],\n",
       "       [45.17513783, 44.99688532],\n",
       "       [45.17518271, 44.99730382],\n",
       "       [45.17521977, 44.9976661 ],\n",
       "       [45.17525035, 44.99797968],\n",
       "       [45.17527561, 44.99825115],\n",
       "       [45.17529645, 44.99848614],\n",
       "       [45.17531366, 44.99868957],\n",
       "       [45.1753279 , 44.99886565],\n",
       "       [45.17533966, 44.99901807],\n",
       "       [45.17534934, 44.99915002],\n",
       "       [45.17535733, 44.99926423],\n",
       "       [45.17536391, 44.9993631 ],\n",
       "       [45.17536935, 44.99944867],\n",
       "       [45.17537387, 44.99952275],\n",
       "       [45.17537755, 44.99958688],\n",
       "       [45.17538061, 44.9996424 ],\n",
       "       [45.17538314, 44.99969046],\n",
       "       [45.17538523, 44.99973205],\n",
       "       [45.17538694, 44.99976806],\n",
       "       [45.17538836, 44.99979923],\n",
       "       [45.17538952, 44.9998262 ]])"
      ]
     },
     "execution_count": 11,
     "metadata": {},
     "output_type": "execute_result"
    }
   ],
   "source": [
    "np.hstack((v_sim, fopdt_sim))"
   ]
  },
  {
   "cell_type": "code",
   "execution_count": null,
   "metadata": {},
   "outputs": [],
   "source": []
  },
  {
   "cell_type": "markdown",
   "metadata": {},
   "source": [
    "## Tuning correlations"
   ]
  },
  {
   "cell_type": "markdown",
   "metadata": {},
   "source": [
    "http://apmonitor.com/pdc/index.php/Main/ProportionalControl"
   ]
  },
  {
   "cell_type": "code",
   "execution_count": 12,
   "metadata": {},
   "outputs": [
    {
     "data": {
      "text/plain": [
       "13.037505366934615"
      ]
     },
     "execution_count": 12,
     "metadata": {},
     "output_type": "execute_result"
    }
   ],
   "source": [
    "def tune_p(gain, time_const, delay):\n",
    "    return (0.202 / gain) * (delay / time_const) ** (-1.219)\n",
    "\n",
    "tune_p(gain, time_const, delay)"
   ]
  },
  {
   "cell_type": "code",
   "execution_count": null,
   "metadata": {},
   "outputs": [],
   "source": []
  },
  {
   "cell_type": "markdown",
   "metadata": {},
   "source": [
    "http://apmonitor.com/pdc/index.php/Main/ProportionalIntegralControl"
   ]
  },
  {
   "cell_type": "code",
   "execution_count": 13,
   "metadata": {},
   "outputs": [
    {
     "data": {
      "text/plain": [
       "(1.0727969348659006, 14.0)"
      ]
     },
     "execution_count": 13,
     "metadata": {},
     "output_type": "execute_result"
    }
   ],
   "source": [
    "def tune_pi_imc(gain, time_const, delay):\n",
    "    \n",
    "    tau_c = max((time_const, 8 * delay))\n",
    "    \n",
    "    K_c = (1. / gain) * (time_const / (delay + tau_c))\n",
    "    \n",
    "    return K_c, time_const\n",
    "\n",
    "\n",
    "tune_pi_imc(gain, time_const, delay)"
   ]
  },
  {
   "cell_type": "code",
   "execution_count": 14,
   "metadata": {},
   "outputs": [
    {
     "data": {
      "text/plain": [
       "(13.780083947845885, 13.670444638186574)"
      ]
     },
     "execution_count": 14,
     "metadata": {},
     "output_type": "execute_result"
    }
   ],
   "source": [
    "def tune_pi_itae(gain, time_const, delay):\n",
    "    \n",
    "    ratio = (delay / time_const)\n",
    "    \n",
    "    K_c = (0.586 / gain ) * ratio ** (-0.916)\n",
    "    \n",
    "    tau_i = time_const / (1.03 - 0.165 * ratio)\n",
    "    \n",
    "    return K_c, tau_i\n",
    "\n",
    "tune_pi_itae(gain, time_const, delay)"
   ]
  },
  {
   "cell_type": "code",
   "execution_count": null,
   "metadata": {},
   "outputs": [],
   "source": []
  }
 ],
 "metadata": {
  "kernelspec": {
   "display_name": "Python 3",
   "language": "python",
   "name": "python3"
  },
  "language_info": {
   "codemirror_mode": {
    "name": "ipython",
    "version": 3
   },
   "file_extension": ".py",
   "mimetype": "text/x-python",
   "name": "python",
   "nbconvert_exporter": "python",
   "pygments_lexer": "ipython3",
   "version": "3.7.6"
  }
 },
 "nbformat": 4,
 "nbformat_minor": 4
}
