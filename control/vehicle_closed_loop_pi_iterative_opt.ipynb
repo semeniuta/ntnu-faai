{
 "cells": [
  {
   "cell_type": "markdown",
   "metadata": {},
   "source": [
    "Vehicle velocity model with slope: closed loop model with PI-controller; iterative simulation approach; optimization of controller parameters."
   ]
  },
  {
   "cell_type": "code",
   "execution_count": 1,
   "metadata": {},
   "outputs": [],
   "source": [
    "%matplotlib inline\n",
    "%load_ext autoreload\n",
    "%autoreload 2"
   ]
  },
  {
   "cell_type": "code",
   "execution_count": 2,
   "metadata": {},
   "outputs": [
    {
     "data": {
      "application/javascript": [
       "IPython.OutputArea.prototype._should_scroll = function(lines) {\n",
       "    return false;\n",
       "}\n"
      ],
      "text/plain": [
       "<IPython.core.display.Javascript object>"
      ]
     },
     "metadata": {},
     "output_type": "display_data"
    }
   ],
   "source": [
    "%%javascript\n",
    "IPython.OutputArea.prototype._should_scroll = function(lines) {\n",
    "    return false;\n",
    "}"
   ]
  },
  {
   "cell_type": "code",
   "execution_count": null,
   "metadata": {},
   "outputs": [],
   "source": []
  },
  {
   "cell_type": "code",
   "execution_count": 3,
   "metadata": {},
   "outputs": [],
   "source": [
    "import numpy as np\n",
    "from scipy.integrate import odeint\n",
    "from matplotlib import pyplot as plt\n",
    "from scipy import constants\n",
    "from scipy import optimize as opt"
   ]
  },
  {
   "cell_type": "code",
   "execution_count": 4,
   "metadata": {},
   "outputs": [],
   "source": [
    "def eval_model(model, xs):\n",
    "    return np.array(list(map(model, xs)))"
   ]
  },
  {
   "cell_type": "code",
   "execution_count": null,
   "metadata": {},
   "outputs": [],
   "source": []
  },
  {
   "cell_type": "markdown",
   "metadata": {},
   "source": [
    "## Mathematical model\n",
    "\n",
    "Model of a closed loop system with PI-controller"
   ]
  },
  {
   "cell_type": "markdown",
   "metadata": {},
   "source": [
    "$\\frac{dv(t)}{dt} = \\frac{1}{m} [ F_p K_c (v_{SP}(t) - v(t)) + \\frac{K_c}{\\tau_i} \\int e(t) dt - \\frac{1}{2} \\rho A C_d v(t)^2 ] - g sin(\\theta(t))$"
   ]
  },
  {
   "cell_type": "code",
   "execution_count": 5,
   "metadata": {},
   "outputs": [],
   "source": [
    "# Mass (car + load), kg\n",
    "m = 700\n",
    "\n",
    "# Thrust parameter, (N / %pedal)\n",
    "F_p = 30\n",
    "\n",
    "# Air density, kg/m^3\n",
    "rho = 1.225 \n",
    "\n",
    "# vehicle cross-sectional area (m^2)\n",
    "A = 5\n",
    "\n",
    "# Drag coefficient\n",
    "C_d = 0.24\n",
    "\n",
    "# Controller gain and integration constant\n",
    "#K_c = 20.\n",
    "#tau_i = 12.\n",
    "\n",
    "def vehicle_model(v, t, setpoint_func, disturbance_func, accumulated_error, K_c, tau_i):\n",
    "    \n",
    "    v_sp = setpoint_func(t)\n",
    "    theta = disturbance_func(t)\n",
    "        \n",
    "    drive = F_p * K_c * (v_sp - v) + (K_c / tau_i) * accumulated_error\n",
    "    drag = 0.5 * rho * A * C_d * (v**2)\n",
    "    slope = constants.g * np.sin(theta)\n",
    "    \n",
    "    return (1. / m) * (drive - drag) - slope\n",
    "    "
   ]
  },
  {
   "cell_type": "code",
   "execution_count": null,
   "metadata": {},
   "outputs": [],
   "source": []
  },
  {
   "cell_type": "markdown",
   "metadata": {},
   "source": [
    "## Simulation"
   ]
  },
  {
   "cell_type": "code",
   "execution_count": 6,
   "metadata": {},
   "outputs": [],
   "source": [
    "t = np.linspace(0, 200, 100)"
   ]
  },
  {
   "cell_type": "code",
   "execution_count": null,
   "metadata": {},
   "outputs": [],
   "source": []
  },
  {
   "cell_type": "code",
   "execution_count": 7,
   "metadata": {},
   "outputs": [],
   "source": [
    "# setpoint function\n",
    "def setpoint_strategy(t):\n",
    "    \n",
    "    if t < 25:\n",
    "        return 0\n",
    "    \n",
    "    if t >= 25 and t < 100:\n",
    "        return 10\n",
    "    \n",
    "    if t >= 100 and t < 150:\n",
    "        return 15\n",
    "    \n",
    "    if t >= 150:\n",
    "        return 10\n",
    "    \n",
    "# disturbance function   \n",
    "def no_slope(t):\n",
    "    return 0"
   ]
  },
  {
   "cell_type": "code",
   "execution_count": null,
   "metadata": {},
   "outputs": [],
   "source": []
  },
  {
   "cell_type": "markdown",
   "metadata": {},
   "source": [
    "Iterative simulation"
   ]
  },
  {
   "cell_type": "code",
   "execution_count": 8,
   "metadata": {},
   "outputs": [],
   "source": [
    "def simulate(K_c, tau_i):\n",
    "\n",
    "    initial = 0.\n",
    "    v_sim = [initial, ]\n",
    "    accumulated_error = 0.\n",
    "\n",
    "    for i in range(len(t) - 1):\n",
    "\n",
    "        # take t[i] and t[i+1]\n",
    "        t_pair = t[i:i+2] \n",
    "        t_now, t_next = t_pair\n",
    "\n",
    "        arguments = (setpoint_strategy, no_slope, accumulated_error, K_c, tau_i)\n",
    "        step_sim = odeint(vehicle_model, initial, t_pair, args=arguments)\n",
    "\n",
    "        # take the last value\n",
    "        v_last = step_sim.reshape(-1)[-1]\n",
    "\n",
    "        # appendt it to the resulting list\n",
    "        v_sim.append(v_last)\n",
    "\n",
    "        # save it as initial condition for the next run\n",
    "        initial = v_last \n",
    "\n",
    "        # compute and accumulate error\n",
    "        error = setpoint_strategy(t_next) - v_last\n",
    "        error_area_increment = error * (t_next - t_now)\n",
    "        accumulated_error += error_area_increment\n",
    "\n",
    "    v_sim = np.array(v_sim).reshape(-1)\n",
    "    \n",
    "    return v_sim"
   ]
  },
  {
   "cell_type": "code",
   "execution_count": null,
   "metadata": {},
   "outputs": [],
   "source": []
  },
  {
   "cell_type": "code",
   "execution_count": 9,
   "metadata": {},
   "outputs": [],
   "source": [
    "# globals: t\n",
    "def cost_function(params):\n",
    "    \n",
    "    K_c, tau_i = params\n",
    "    \n",
    "    v_sim = simulate(K_c, tau_i)\n",
    "    \n",
    "    error = eval_model(setpoint_strategy, t) - v_sim\n",
    "    \n",
    "    sse = np.sum(np.square(error))\n",
    "    \n",
    "    return sse"
   ]
  },
  {
   "cell_type": "code",
   "execution_count": null,
   "metadata": {},
   "outputs": [],
   "source": []
  },
  {
   "cell_type": "code",
   "execution_count": 10,
   "metadata": {},
   "outputs": [],
   "source": [
    "opt_res = opt.minimize(cost_function, x0=[15, 10], bounds=[(5, 25), (5, 25)], method='SLSQP')"
   ]
  },
  {
   "cell_type": "code",
   "execution_count": 11,
   "metadata": {},
   "outputs": [
    {
     "data": {
      "text/plain": [
       "     fun: 14.46192060793392\n",
       "     jac: array([42.5133487 , 10.14043427])\n",
       " message: 'Optimization terminated successfully'\n",
       "    nfev: 59\n",
       "     nit: 6\n",
       "    njev: 6\n",
       "  status: 0\n",
       " success: True\n",
       "       x: array([23.1588657 , 13.42604843])"
      ]
     },
     "execution_count": 11,
     "metadata": {},
     "output_type": "execute_result"
    }
   ],
   "source": [
    "opt_res"
   ]
  },
  {
   "cell_type": "code",
   "execution_count": null,
   "metadata": {},
   "outputs": [],
   "source": []
  },
  {
   "cell_type": "code",
   "execution_count": 12,
   "metadata": {},
   "outputs": [],
   "source": [
    "K_c, tau_i = opt_res.x\n",
    "\n",
    "v_sim = simulate(K_c, tau_i)"
   ]
  },
  {
   "cell_type": "code",
   "execution_count": null,
   "metadata": {},
   "outputs": [],
   "source": []
  },
  {
   "cell_type": "code",
   "execution_count": 13,
   "metadata": {},
   "outputs": [
    {
     "data": {
      "image/png": "[encoded data removed]",
      "text/plain": [
       "<Figure size 1008x288 with 1 Axes>"
      ]
     },
     "metadata": {
      "needs_background": "light"
     },
     "output_type": "display_data"
    }
   ],
   "source": [
    "plt.figure(figsize=(14, 4))\n",
    "plt.plot(t, eval_model(setpoint_strategy, t), '--', color='gray')\n",
    "plt.plot(t, v_sim)\n",
    "\n",
    "plt.xlabel('$t$, s')\n",
    "plt.ylabel('$v$, m/s')\n",
    "plt.show()"
   ]
  },
  {
   "cell_type": "code",
   "execution_count": null,
   "metadata": {},
   "outputs": [],
   "source": []
  },
  {
   "cell_type": "code",
   "execution_count": null,
   "metadata": {},
   "outputs": [],
   "source": []
  },
  {
   "cell_type": "code",
   "execution_count": 14,
   "metadata": {},
   "outputs": [],
   "source": [
    "error = eval_model(setpoint_strategy, t) - v_sim"
   ]
  },
  {
   "cell_type": "code",
   "execution_count": 15,
   "metadata": {},
   "outputs": [
    {
     "data": {
      "image/png": "[encoded data removed]",
      "text/plain": [
       "<Figure size 1008x288 with 1 Axes>"
      ]
     },
     "metadata": {
      "needs_background": "light"
     },
     "output_type": "display_data"
    }
   ],
   "source": [
    "plt.figure(figsize=(14, 4))\n",
    "plt.plot(t, error, color='tab:red')\n",
    "plt.axhline(0, linestyle='--', color='tab:green')\n",
    "plt.xlabel('$t$, s')\n",
    "plt.ylabel('Error, m')\n",
    "plt.show()"
   ]
  },
  {
   "cell_type": "code",
   "execution_count": 16,
   "metadata": {},
   "outputs": [
    {
     "name": "stdout",
     "output_type": "stream",
     "text": [
      "Sum of squared errors during simulation: 14.462\n"
     ]
    }
   ],
   "source": [
    "sse = np.sum(np.square(error))\n",
    "\n",
    "print('Sum of squared errors during simulation: {:.3f}'.format(sse))"
   ]
  },
  {
   "cell_type": "code",
   "execution_count": null,
   "metadata": {},
   "outputs": [],
   "source": []
  }
 ],
 "metadata": {
  "kernelspec": {
   "display_name": "Python 3",
   "language": "python",
   "name": "python3"
  },
  "language_info": {
   "codemirror_mode": {
    "name": "ipython",
    "version": 3
   },
   "file_extension": ".py",
   "mimetype": "text/x-python",
   "name": "python",
   "nbconvert_exporter": "python",
   "pygments_lexer": "ipython3",
   "version": "3.7.6"
  }
 },
 "nbformat": 4,
 "nbformat_minor": 4
}
