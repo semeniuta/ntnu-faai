{
 "cells": [
  {
   "cell_type": "markdown",
   "metadata": {},
   "source": [
    "Vehicle velocity model with slope: closed loop model with PI-controller; iterative simulation approach."
   ]
  },
  {
   "cell_type": "code",
   "execution_count": 1,
   "metadata": {},
   "outputs": [],
   "source": [
    "%matplotlib inline\n",
    "%load_ext autoreload\n",
    "%autoreload 2"
   ]
  },
  {
   "cell_type": "code",
   "execution_count": 2,
   "metadata": {},
   "outputs": [
    {
     "data": {
      "application/javascript": [
       "IPython.OutputArea.prototype._should_scroll = function(lines) {\n",
       "    return false;\n",
       "}\n"
      ],
      "text/plain": [
       "<IPython.core.display.Javascript object>"
      ]
     },
     "metadata": {},
     "output_type": "display_data"
    }
   ],
   "source": [
    "%%javascript\n",
    "IPython.OutputArea.prototype._should_scroll = function(lines) {\n",
    "    return false;\n",
    "}"
   ]
  },
  {
   "cell_type": "code",
   "execution_count": null,
   "metadata": {},
   "outputs": [],
   "source": []
  },
  {
   "cell_type": "code",
   "execution_count": 3,
   "metadata": {},
   "outputs": [],
   "source": [
    "import numpy as np\n",
    "from scipy.integrate import odeint\n",
    "from matplotlib import pyplot as plt\n",
    "from scipy import constants"
   ]
  },
  {
   "cell_type": "code",
   "execution_count": 4,
   "metadata": {},
   "outputs": [],
   "source": [
    "def eval_model(model, xs):\n",
    "    return np.array(list(map(model, xs)))"
   ]
  },
  {
   "cell_type": "code",
   "execution_count": null,
   "metadata": {},
   "outputs": [],
   "source": []
  },
  {
   "cell_type": "markdown",
   "metadata": {},
   "source": [
    "## Mathematical model\n",
    "\n",
    "Model of a closed loop system with PI-controller"
   ]
  },
  {
   "cell_type": "markdown",
   "metadata": {},
   "source": [
    "$\\frac{dv(t)}{dt} = \\frac{1}{m} [ F_p K_c (v_{SP}(t) - v(t)) + \\frac{K_c}{\\tau_i} \\int e(t) dt - \\frac{1}{2} \\rho A C_d v(t)^2 ] - g sin(\\theta(t))$"
   ]
  },
  {
   "cell_type": "code",
   "execution_count": 5,
   "metadata": {},
   "outputs": [],
   "source": [
    "# Mass (car + load), kg\n",
    "m = 700\n",
    "\n",
    "# Thrust parameter, (N / %pedal)\n",
    "F_p = 30\n",
    "\n",
    "# Air density, kg/m^3\n",
    "rho = 1.225 \n",
    "\n",
    "# vehicle cross-sectional area (m^2)\n",
    "A = 5\n",
    "\n",
    "# Drag coefficient\n",
    "C_d = 0.24\n",
    "\n",
    "# Controller gain and integration constant\n",
    "K_c = 20.\n",
    "tau_i = 12.\n",
    "\n",
    "def vehicle_model(v, t, setpoint_func, disturbance_func, accumulated_error):\n",
    "    \n",
    "    v_sp = setpoint_func(t)\n",
    "    theta = disturbance_func(t)\n",
    "        \n",
    "    drive = F_p * K_c * (v_sp - v) + (K_c / tau_i) * accumulated_error\n",
    "    drag = 0.5 * rho * A * C_d * (v**2)\n",
    "    slope = constants.g * np.sin(theta)\n",
    "    \n",
    "    return (1. / m) * (drive - drag) - slope\n",
    "    "
   ]
  },
  {
   "cell_type": "code",
   "execution_count": null,
   "metadata": {},
   "outputs": [],
   "source": []
  },
  {
   "cell_type": "markdown",
   "metadata": {},
   "source": [
    "## Simulation"
   ]
  },
  {
   "cell_type": "code",
   "execution_count": 6,
   "metadata": {},
   "outputs": [],
   "source": [
    "t = np.linspace(0, 200, 100)"
   ]
  },
  {
   "cell_type": "code",
   "execution_count": null,
   "metadata": {},
   "outputs": [],
   "source": []
  },
  {
   "cell_type": "code",
   "execution_count": 7,
   "metadata": {},
   "outputs": [],
   "source": [
    "# setpoint function\n",
    "def setpoint_strategy(t):\n",
    "    \n",
    "    if t < 25:\n",
    "        return 0\n",
    "    \n",
    "    if t >= 25 and t < 100:\n",
    "        return 10\n",
    "    \n",
    "    if t >= 100 and t < 150:\n",
    "        return 15\n",
    "    \n",
    "    if t >= 150:\n",
    "        return 10\n",
    "    \n",
    "# disturbance function   \n",
    "def no_slope(t):\n",
    "    return 0"
   ]
  },
  {
   "cell_type": "code",
   "execution_count": null,
   "metadata": {},
   "outputs": [],
   "source": []
  },
  {
   "cell_type": "markdown",
   "metadata": {},
   "source": [
    "Iterative simulation"
   ]
  },
  {
   "cell_type": "code",
   "execution_count": 8,
   "metadata": {},
   "outputs": [],
   "source": [
    "initial = 0.\n",
    "v_sim = [initial, ]\n",
    "accumulated_error = 0.\n",
    "\n",
    "for i in range(len(t) - 1):\n",
    "    \n",
    "    # take t[i] and t[i+1]\n",
    "    t_pair = t[i:i+2] \n",
    "    t_now, t_next = t_pair\n",
    "    \n",
    "    step_sim = odeint(vehicle_model, initial, t_pair, args=(setpoint_strategy, no_slope, accumulated_error))\n",
    "\n",
    "    # take the last value\n",
    "    v_last = step_sim.reshape(-1)[-1]\n",
    "    \n",
    "    # appendt it to the resulting list\n",
    "    v_sim.append(v_last)\n",
    "    \n",
    "    # save it as initial condition for the next run\n",
    "    initial = v_last \n",
    "    \n",
    "    # compute and accumulate error\n",
    "    error = setpoint_strategy(t_next) - v_last\n",
    "    error_area_increment = error * (t_next - t_now)\n",
    "    accumulated_error += error_area_increment\n",
    "    \n",
    "v_sim = np.array(v_sim).reshape(-1)"
   ]
  },
  {
   "cell_type": "code",
   "execution_count": null,
   "metadata": {},
   "outputs": [],
   "source": []
  },
  {
   "cell_type": "code",
   "execution_count": null,
   "metadata": {},
   "outputs": [],
   "source": []
  },
  {
   "cell_type": "code",
   "execution_count": 9,
   "metadata": {},
   "outputs": [
    {
     "data": {
      "image/png": "[encoded data removed]",
      "text/plain": [
       "<Figure size 1008x288 with 1 Axes>"
      ]
     },
     "metadata": {
      "needs_background": "light"
     },
     "output_type": "display_data"
    }
   ],
   "source": [
    "plt.figure(figsize=(14, 4))\n",
    "plt.plot(t, eval_model(setpoint_strategy, t), '--', color='gray')\n",
    "plt.plot(t, v_sim)\n",
    "\n",
    "plt.xlabel('$t$, s')\n",
    "plt.ylabel('$v$, m/s')\n",
    "plt.show()"
   ]
  },
  {
   "cell_type": "code",
   "execution_count": 10,
   "metadata": {},
   "outputs": [
    {
     "data": {
      "text/plain": [
       "array([ 0.        ,  0.        ,  0.        ,  0.        ,  0.        ,\n",
       "        0.        ,  0.        ,  0.        ,  0.        ,  0.        ,\n",
       "        0.        ,  0.        ,  0.        ,  6.59315548,  9.33614485,\n",
       "        9.80650361,  9.88726499,  9.90148584,  9.9043478 ,  9.90526863,\n",
       "        9.90585585,  9.90638376,  9.90689911,  9.90741008,  9.90791797,\n",
       "        9.90842304,  9.90892533,  9.90942486,  9.90992165,  9.91041571,\n",
       "        9.91090707,  9.91139573,  9.9118817 ,  9.91236502,  9.91284568,\n",
       "        9.9133237 ,  9.9137991 ,  9.91427189,  9.91474209,  9.91520971,\n",
       "        9.91567477,  9.91613727,  9.91659724,  9.91705468,  9.91750962,\n",
       "        9.91796205,  9.91841201,  9.9188595 ,  9.91930453,  9.91974712,\n",
       "       12.78781747, 14.45270963, 14.73258822, 14.78033982, 14.78927028,\n",
       "       14.79170631, 14.79305177, 14.79420985, 14.79533153, 14.79644211,\n",
       "       14.79754581, 14.79864339, 14.79973499, 14.80082067, 14.80190046,\n",
       "       14.80297439, 14.8040425 , 14.80510481, 14.80616136, 14.80721219,\n",
       "       14.80825731, 14.80929676, 14.81033058, 14.81135879, 14.81238143,\n",
       "       11.23814662, 10.17169572,  9.99022729,  9.95948752,  9.95445594,\n",
       "        9.95380937,  9.95390971,  9.95413633,  9.95438339,  9.9546328 ,\n",
       "        9.95488147,  9.95512889,  9.95537497,  9.95561971,  9.9558631 ,\n",
       "        9.95610516,  9.95634589,  9.95658529,  9.95682339,  9.95706018,\n",
       "        9.95729567,  9.95752987,  9.95776279,  9.95799443,  9.95822479])"
      ]
     },
     "execution_count": 10,
     "metadata": {},
     "output_type": "execute_result"
    }
   ],
   "source": [
    "v_sim"
   ]
  },
  {
   "cell_type": "code",
   "execution_count": null,
   "metadata": {},
   "outputs": [],
   "source": []
  },
  {
   "cell_type": "code",
   "execution_count": 11,
   "metadata": {},
   "outputs": [],
   "source": [
    "error = eval_model(setpoint_strategy, t) - v_sim"
   ]
  },
  {
   "cell_type": "code",
   "execution_count": 12,
   "metadata": {},
   "outputs": [
    {
     "data": {
      "image/png": "[encoded data removed]",
      "text/plain": [
       "<Figure size 1008x288 with 1 Axes>"
      ]
     },
     "metadata": {
      "needs_background": "light"
     },
     "output_type": "display_data"
    }
   ],
   "source": [
    "plt.figure(figsize=(14, 4))\n",
    "plt.plot(t, error, color='tab:red')\n",
    "plt.axhline(0, linestyle='--', color='tab:green')\n",
    "plt.xlabel('$t$, s')\n",
    "plt.ylabel('Error, m')\n",
    "plt.show()"
   ]
  },
  {
   "cell_type": "code",
   "execution_count": 13,
   "metadata": {},
   "outputs": [
    {
     "name": "stdout",
     "output_type": "stream",
     "text": [
      "Sum of squared errors during simulation: 20.098\n"
     ]
    }
   ],
   "source": [
    "sse = np.sum(np.square(error))\n",
    "\n",
    "print('Sum of squared errors during simulation: {:.3f}'.format(sse))"
   ]
  },
  {
   "cell_type": "code",
   "execution_count": null,
   "metadata": {},
   "outputs": [],
   "source": []
  }
 ],
 "metadata": {
  "kernelspec": {
   "display_name": "Python 3",
   "language": "python",
   "name": "python3"
  },
  "language_info": {
   "codemirror_mode": {
    "name": "ipython",
    "version": 3
   },
   "file_extension": ".py",
   "mimetype": "text/x-python",
   "name": "python",
   "nbconvert_exporter": "python",
   "pygments_lexer": "ipython3",
   "version": "3.7.6"
  }
 },
 "nbformat": 4,
 "nbformat_minor": 4
}
