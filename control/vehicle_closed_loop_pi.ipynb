{
 "cells": [
  {
   "cell_type": "markdown",
   "metadata": {},
   "source": [
    "Vehicle velocity model with slope: closed loop model.\n",
    "\n",
    "Currently under development."
   ]
  },
  {
   "cell_type": "code",
   "execution_count": 1,
   "metadata": {},
   "outputs": [],
   "source": [
    "%matplotlib inline\n",
    "%load_ext autoreload\n",
    "%autoreload 2"
   ]
  },
  {
   "cell_type": "code",
   "execution_count": 2,
   "metadata": {},
   "outputs": [
    {
     "data": {
      "application/javascript": [
       "IPython.OutputArea.prototype._should_scroll = function(lines) {\n",
       "    return false;\n",
       "}\n"
      ],
      "text/plain": [
       "<IPython.core.display.Javascript object>"
      ]
     },
     "metadata": {},
     "output_type": "display_data"
    }
   ],
   "source": [
    "%%javascript\n",
    "IPython.OutputArea.prototype._should_scroll = function(lines) {\n",
    "    return false;\n",
    "}"
   ]
  },
  {
   "cell_type": "code",
   "execution_count": null,
   "metadata": {},
   "outputs": [],
   "source": []
  },
  {
   "cell_type": "code",
   "execution_count": 3,
   "metadata": {},
   "outputs": [],
   "source": [
    "import numpy as np\n",
    "from scipy.integrate import odeint\n",
    "from matplotlib import pyplot as plt\n",
    "from scipy import constants"
   ]
  },
  {
   "cell_type": "code",
   "execution_count": 4,
   "metadata": {},
   "outputs": [],
   "source": [
    "def eval_model(model, xs):\n",
    "    return np.array(list(map(model, xs)))"
   ]
  },
  {
   "cell_type": "code",
   "execution_count": null,
   "metadata": {},
   "outputs": [],
   "source": []
  },
  {
   "cell_type": "code",
   "execution_count": null,
   "metadata": {},
   "outputs": [],
   "source": []
  },
  {
   "cell_type": "markdown",
   "metadata": {},
   "source": [
    "$\\frac{dv(t)}{dt} = \\frac{1}{m} [ F_p K_c (v_{SP}(t) - v(t)) + \\frac{K_c}{\\tau_i} \\int e(t) dt - \\frac{1}{2} \\rho A C_d v(t)^2 ] - g sin(\\theta)$"
   ]
  },
  {
   "cell_type": "code",
   "execution_count": 5,
   "metadata": {},
   "outputs": [],
   "source": [
    "# Mass (car + load), kg\n",
    "m = 700\n",
    "\n",
    "# Thrust parameter, (N / %pedal)\n",
    "F_p = 30\n",
    "\n",
    "# Air density, kg/m^3\n",
    "rho = 1.225 \n",
    "\n",
    "# vehicle cross-sectional area (m^2)\n",
    "A = 5\n",
    "\n",
    "# Drag coefficient\n",
    "C_d = 0.24\n",
    "\n",
    "# Controller gain and integration constant\n",
    "K_c = 13.\n",
    "tau_i = 25.\n",
    "\n",
    "\n",
    "class Vehicle:\n",
    "    \n",
    "    def __init__(self, setpoint_func, disturbance_func):\n",
    "        \n",
    "        self.setpoint_func = setpoint_func\n",
    "        self.disturbance_func = disturbance_func\n",
    "        \n",
    "        self.accumulated_error = 0\n",
    "        self.t_prev = 0\n",
    "        \n",
    "        self.error_history = []\n",
    "        self.error_accumulation_history = []\n",
    "\n",
    "    def model(self, v, t):\n",
    "\n",
    "        v_sp = self.setpoint_func(t)\n",
    "        theta = self.disturbance_func(t)\n",
    "        \n",
    "        error = v_sp - v\n",
    "        increment = error * (t - self.t_prev)\n",
    "        self.accumulated_error += increment\n",
    "        \n",
    "        self.error_history.append(error[0])\n",
    "        self.error_accumulation_history.append(self.accumulated_error[0])\n",
    "\n",
    "        drive = F_p * K_c * error + (K_c / tau_i) * self.accumulated_error\n",
    "        drag = 0.5 * rho * A * C_d * (v**2)\n",
    "        slope = constants.g * np.sin(theta)\n",
    "        \n",
    "        self.t_prev = t\n",
    "\n",
    "        return (1. / m) * (drive - drag) - slope\n",
    "    "
   ]
  },
  {
   "cell_type": "code",
   "execution_count": 6,
   "metadata": {},
   "outputs": [],
   "source": [
    "def setpoint_strategy(t):\n",
    "    \n",
    "    if t < 25:\n",
    "        return 0\n",
    "    \n",
    "    if t >= 25 and t < 100:\n",
    "        return 10\n",
    "    \n",
    "    if t >= 100 and t < 150:\n",
    "        return 15\n",
    "    \n",
    "    if t >= 150:\n",
    "        return 10\n",
    "    \n",
    "    \n",
    "def no_slope(t):\n",
    "    return 0"
   ]
  },
  {
   "cell_type": "code",
   "execution_count": null,
   "metadata": {},
   "outputs": [],
   "source": []
  },
  {
   "cell_type": "code",
   "execution_count": 7,
   "metadata": {},
   "outputs": [],
   "source": [
    "t = np.linspace(0, 200, 100)\n",
    "\n",
    "vehicle = Vehicle(setpoint_strategy, no_slope)"
   ]
  },
  {
   "cell_type": "code",
   "execution_count": null,
   "metadata": {},
   "outputs": [],
   "source": []
  },
  {
   "cell_type": "code",
   "execution_count": 8,
   "metadata": {},
   "outputs": [
    {
     "data": {
      "image/png": "[encoded data removed]",
      "text/plain": [
       "<Figure size 432x288 with 1 Axes>"
      ]
     },
     "metadata": {
      "needs_background": "light"
     },
     "output_type": "display_data"
    }
   ],
   "source": [
    "initial = 0\n",
    "\n",
    "v_sim = odeint(vehicle.model, initial, t)\n",
    "\n",
    "plt.plot(t, eval_model(setpoint_strategy, t), '--', color='gray')\n",
    "plt.plot(t, v_sim)\n",
    "\n",
    "plt.xlabel('$t$, s')\n",
    "plt.ylabel('$v$, m/s')\n",
    "plt.show()"
   ]
  },
  {
   "cell_type": "code",
   "execution_count": null,
   "metadata": {},
   "outputs": [],
   "source": []
  },
  {
   "cell_type": "code",
   "execution_count": null,
   "metadata": {},
   "outputs": [],
   "source": []
  },
  {
   "cell_type": "code",
   "execution_count": 9,
   "metadata": {},
   "outputs": [],
   "source": [
    "error_history = eval_model(setpoint_strategy, t) - v_sim.reshape(-1)"
   ]
  },
  {
   "cell_type": "code",
   "execution_count": 10,
   "metadata": {},
   "outputs": [
    {
     "data": {
      "image/png": "[encoded data removed]",
      "text/plain": [
       "<Figure size 432x288 with 1 Axes>"
      ]
     },
     "metadata": {
      "needs_background": "light"
     },
     "output_type": "display_data"
    }
   ],
   "source": [
    "plt.plot(t, error_history, color='tab:red')\n",
    "plt.axhline(0, linestyle='--', color='tab:green')\n",
    "plt.show()"
   ]
  },
  {
   "cell_type": "code",
   "execution_count": null,
   "metadata": {},
   "outputs": [],
   "source": []
  },
  {
   "cell_type": "code",
   "execution_count": 11,
   "metadata": {},
   "outputs": [],
   "source": [
    "# test\n",
    "def accumulate_error(t, error_history):\n",
    "    \n",
    "    return np.sum(np.diff(t) * error_history[1:])"
   ]
  },
  {
   "cell_type": "code",
   "execution_count": null,
   "metadata": {},
   "outputs": [],
   "source": []
  },
  {
   "cell_type": "code",
   "execution_count": 12,
   "metadata": {},
   "outputs": [
    {
     "data": {
      "image/png": "[encoded data removed]",
      "text/plain": [
       "<Figure size 432x288 with 1 Axes>"
      ]
     },
     "metadata": {
      "needs_background": "light"
     },
     "output_type": "display_data"
    }
   ],
   "source": [
    "plt.plot(vehicle.error_history)\n",
    "plt.plot(vehicle.error_accumulation_history)\n",
    "plt.show()"
   ]
  },
  {
   "cell_type": "code",
   "execution_count": null,
   "metadata": {},
   "outputs": [],
   "source": []
  }
 ],
 "metadata": {
  "kernelspec": {
   "display_name": "Python 3",
   "language": "python",
   "name": "python3"
  },
  "language_info": {
   "codemirror_mode": {
    "name": "ipython",
    "version": 3
   },
   "file_extension": ".py",
   "mimetype": "text/x-python",
   "name": "python",
   "nbconvert_exporter": "python",
   "pygments_lexer": "ipython3",
   "version": "3.7.6"
  }
 },
 "nbformat": 4,
 "nbformat_minor": 4
}
