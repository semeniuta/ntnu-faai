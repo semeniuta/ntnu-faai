{
 "cells": [
  {
   "cell_type": "markdown",
   "metadata": {},
   "source": [
    "Vehicle velocity model with slope: closed loop model."
   ]
  },
  {
   "cell_type": "code",
   "execution_count": 1,
   "metadata": {},
   "outputs": [],
   "source": [
    "%matplotlib inline\n",
    "%load_ext autoreload\n",
    "%autoreload 2"
   ]
  },
  {
   "cell_type": "code",
   "execution_count": 2,
   "metadata": {},
   "outputs": [
    {
     "data": {
      "application/javascript": [
       "IPython.OutputArea.prototype._should_scroll = function(lines) {\n",
       "    return false;\n",
       "}\n"
      ],
      "text/plain": [
       "<IPython.core.display.Javascript object>"
      ]
     },
     "metadata": {},
     "output_type": "display_data"
    }
   ],
   "source": [
    "%%javascript\n",
    "IPython.OutputArea.prototype._should_scroll = function(lines) {\n",
    "    return false;\n",
    "}"
   ]
  },
  {
   "cell_type": "code",
   "execution_count": null,
   "metadata": {},
   "outputs": [],
   "source": []
  },
  {
   "cell_type": "code",
   "execution_count": 3,
   "metadata": {},
   "outputs": [],
   "source": [
    "import numpy as np\n",
    "from scipy.integrate import odeint\n",
    "from matplotlib import pyplot as plt\n",
    "from scipy import constants"
   ]
  },
  {
   "cell_type": "code",
   "execution_count": 4,
   "metadata": {},
   "outputs": [],
   "source": [
    "def eval_model(model, xs):\n",
    "    return np.array(list(map(model, xs)))"
   ]
  },
  {
   "cell_type": "code",
   "execution_count": null,
   "metadata": {},
   "outputs": [],
   "source": []
  },
  {
   "cell_type": "code",
   "execution_count": null,
   "metadata": {},
   "outputs": [],
   "source": []
  },
  {
   "cell_type": "markdown",
   "metadata": {},
   "source": [
    "$\\frac{dv(t)}{dt} = \\frac{1}{m} [ F_p K_c (v_{SP}(t) - v(t)) - \\frac{1}{2} \\rho A C_d v(t)^2 ] - g sin(\\theta)$"
   ]
  },
  {
   "cell_type": "code",
   "execution_count": 5,
   "metadata": {},
   "outputs": [],
   "source": [
    "# Mass (car + load), kg\n",
    "m = 700\n",
    "\n",
    "# Thrust parameter, (N / %pedal)\n",
    "F_p = 30\n",
    "\n",
    "# Air density, kg/m^3\n",
    "rho = 1.225 \n",
    "\n",
    "# vehicle cross-sectional area (m^2)\n",
    "A = 5\n",
    "\n",
    "# Drag coefficient\n",
    "C_d = 0.24\n",
    "\n",
    "# Controller gain\n",
    "K_c = 13.037\n",
    "#K_c = 20.\n",
    "\n",
    "def vehicle_model(v, t, setpoint_func, disturbance_func):\n",
    "    \n",
    "    v_sp = setpoint_func(t)\n",
    "    theta = disturbance_func(t)\n",
    "        \n",
    "    drive = F_p * K_c * (v_sp - v)\n",
    "    drag = 0.5 * rho * A * C_d * (v**2)\n",
    "    slope = constants.g * np.sin(theta)\n",
    "    \n",
    "    return (1. / m) * (drive - drag) - slope\n",
    "    "
   ]
  },
  {
   "cell_type": "code",
   "execution_count": 6,
   "metadata": {},
   "outputs": [],
   "source": [
    "def setpoint_strategy(t):\n",
    "    \n",
    "    if t < 25:\n",
    "        return 0\n",
    "    \n",
    "    if t >= 25 and t < 100:\n",
    "        return 10\n",
    "    \n",
    "    if t >= 100 and t < 150:\n",
    "        return 15\n",
    "    \n",
    "    if t >= 150:\n",
    "        return 10\n",
    "    \n",
    "    \n",
    "def no_slope(t):\n",
    "    return 0"
   ]
  },
  {
   "cell_type": "code",
   "execution_count": null,
   "metadata": {},
   "outputs": [],
   "source": []
  },
  {
   "cell_type": "code",
   "execution_count": 7,
   "metadata": {},
   "outputs": [],
   "source": [
    "t = np.linspace(0, 200, 100)"
   ]
  },
  {
   "cell_type": "code",
   "execution_count": null,
   "metadata": {},
   "outputs": [],
   "source": []
  },
  {
   "cell_type": "code",
   "execution_count": 8,
   "metadata": {},
   "outputs": [
    {
     "data": {
      "image/png": "[encoded data removed]",
      "text/plain": [
       "<Figure size 432x288 with 1 Axes>"
      ]
     },
     "metadata": {
      "needs_background": "light"
     },
     "output_type": "display_data"
    }
   ],
   "source": [
    "initial = 0\n",
    "\n",
    "v_sim = odeint(vehicle_model, initial, t, args=(setpoint_strategy, no_slope))\n",
    "\n",
    "plt.plot(t, eval_model(setpoint_strategy, t), '--', color='gray')\n",
    "plt.plot(t, v_sim)\n",
    "\n",
    "plt.xlabel('$t$, s')\n",
    "plt.ylabel('$v$, m/s')\n",
    "plt.show()"
   ]
  },
  {
   "cell_type": "code",
   "execution_count": 9,
   "metadata": {},
   "outputs": [
    {
     "data": {
      "text/plain": [
       "array([ 0.        ,  0.        ,  0.        ,  0.        ,  0.        ,\n",
       "        0.        ,  0.        ,  0.        ,  0.        ,  0.        ,\n",
       "        0.        ,  0.        ,  0.        ,  5.05010865,  8.33049032,\n",
       "        9.35621672,  9.67521851,  9.77426157,  9.80499621,  9.8145321 ,\n",
       "        9.81749061,  9.81840845,  9.81869322,  9.81878158,  9.81880898,\n",
       "        9.81881747,  9.81882011,  9.81882094,  9.81882119,  9.81882127,\n",
       "        9.81882129,  9.8188213 ,  9.81882131,  9.81882131,  9.81882131,\n",
       "        9.81882131,  9.81882131,  9.8188213 ,  9.8188213 ,  9.8188213 ,\n",
       "        9.8188213 ,  9.8188213 ,  9.8188213 ,  9.8188213 ,  9.8188213 ,\n",
       "        9.8188213 ,  9.8188213 ,  9.8188213 ,  9.8188213 ,  9.8188213 ,\n",
       "       11.95342076, 13.79236958, 14.35383771, 14.52475482, 14.57673667,\n",
       "       14.59254181, 14.59734696, 14.59880779, 14.59925191, 14.59938696,\n",
       "       14.59942799, 14.59944045, 14.59944424, 14.59944542, 14.59944577,\n",
       "       14.59944587, 14.5994459 , 14.59944592, 14.59944592, 14.59944592,\n",
       "       14.59944592, 14.59944592, 14.59944592, 14.59944592, 14.59944592,\n",
       "       11.79609938, 10.43074485, 10.00852106,  9.87766034,  9.83707435,\n",
       "        9.82448404,  9.82057811,  9.81936634,  9.8189904 ,  9.81887375,\n",
       "        9.81883757,  9.81882636,  9.81882288,  9.81882179,  9.81882145,\n",
       "        9.81882135,  9.81882132,  9.81882131,  9.8188213 ,  9.8188213 ,\n",
       "        9.8188213 ,  9.8188213 ,  9.8188213 ,  9.8188213 ,  9.8188213 ])"
      ]
     },
     "execution_count": 9,
     "metadata": {},
     "output_type": "execute_result"
    }
   ],
   "source": [
    "v_sim.reshape(-1)"
   ]
  },
  {
   "cell_type": "code",
   "execution_count": null,
   "metadata": {},
   "outputs": [],
   "source": []
  },
  {
   "cell_type": "code",
   "execution_count": 10,
   "metadata": {},
   "outputs": [],
   "source": [
    "error = eval_model(setpoint_strategy, t) - v_sim.reshape(-1)"
   ]
  },
  {
   "cell_type": "code",
   "execution_count": 11,
   "metadata": {},
   "outputs": [
    {
     "data": {
      "image/png": "[encoded data removed]",
      "text/plain": [
       "<Figure size 432x288 with 1 Axes>"
      ]
     },
     "metadata": {
      "needs_background": "light"
     },
     "output_type": "display_data"
    }
   ],
   "source": [
    "plt.plot(t, error, color='tab:red')\n",
    "plt.axhline(0, linestyle='--', color='tab:green')\n",
    "plt.show()"
   ]
  },
  {
   "cell_type": "code",
   "execution_count": null,
   "metadata": {},
   "outputs": [],
   "source": []
  }
 ],
 "metadata": {
  "kernelspec": {
   "display_name": "Python 3",
   "language": "python",
   "name": "python3"
  },
  "language_info": {
   "codemirror_mode": {
    "name": "ipython",
    "version": 3
   },
   "file_extension": ".py",
   "mimetype": "text/x-python",
   "name": "python",
   "nbconvert_exporter": "python",
   "pygments_lexer": "ipython3",
   "version": "3.7.6"
  }
 },
 "nbformat": 4,
 "nbformat_minor": 4
}
