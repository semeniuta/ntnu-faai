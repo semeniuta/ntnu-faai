{
 "cells": [
  {
   "cell_type": "markdown",
   "metadata": {},
   "source": [
    "Model fitting with `numpy.polyfit`. "
   ]
  },
  {
   "cell_type": "code",
   "execution_count": 1,
   "metadata": {
    "scrolled": true
   },
   "outputs": [],
   "source": [
    "%matplotlib inline\n",
    "%load_ext autoreload\n",
    "%autoreload 2"
   ]
  },
  {
   "cell_type": "code",
   "execution_count": 2,
   "metadata": {},
   "outputs": [
    {
     "data": {
      "application/javascript": [
       "IPython.OutputArea.prototype._should_scroll = function(lines) {\n",
       "    return false;\n",
       "}\n"
      ],
      "text/plain": [
       "<IPython.core.display.Javascript object>"
      ]
     },
     "metadata": {},
     "output_type": "display_data"
    }
   ],
   "source": [
    "%%javascript\n",
    "IPython.OutputArea.prototype._should_scroll = function(lines) {\n",
    "    return false;\n",
    "}"
   ]
  },
  {
   "cell_type": "markdown",
   "metadata": {},
   "source": [
    "## Imports"
   ]
  },
  {
   "cell_type": "code",
   "execution_count": 3,
   "metadata": {},
   "outputs": [],
   "source": [
    "import sys\n",
    "import numpy as np\n",
    "import pandas as pd\n",
    "from scipy import stats\n",
    "from matplotlib import pyplot as plt"
   ]
  },
  {
   "cell_type": "code",
   "execution_count": 4,
   "metadata": {},
   "outputs": [],
   "source": [
    "ROOT_DIR = '..'\n",
    "if ROOT_DIR not in sys.path:\n",
    "    sys.path.append(ROOT_DIR)\n",
    "\n",
    "import faai"
   ]
  },
  {
   "cell_type": "code",
   "execution_count": 5,
   "metadata": {},
   "outputs": [
    {
     "data": {
      "text/plain": [
       "array([66.25280854, 61.68725667, 47.77045534, 50.15549254, 38.9084924 ,\n",
       "       27.76461382, 27.51146616, 29.18037587, 23.66125016, 12.45011684,\n",
       "       17.84334845, 11.24756536, 11.12536198,  8.34876573, -1.0340813 ,\n",
       "        4.94248577, -1.03443642,  8.92239665,  4.36670804,  0.91817784,\n",
       "       -3.91495827,  1.95966369,  3.54946468, -1.8572408 , 17.11680108,\n",
       "       10.15897607, 19.21178858,  8.12343923, 25.17873771, 13.88267204,\n",
       "       21.49387083, 31.89975654, 34.24003124, 27.39713183, 39.22207978,\n",
       "       54.87668177, 67.43935434, 68.26170479, 69.36898323, 82.17005949])"
      ]
     },
     "execution_count": 5,
     "metadata": {},
     "output_type": "execute_result"
    }
   ],
   "source": [
    "poly = faai.NoisyPolynomial([1, 2, 3], normal_std=5., step=0.25, random_state=4)\n",
    "\n",
    "poly.y_noisy"
   ]
  },
  {
   "cell_type": "code",
   "execution_count": null,
   "metadata": {},
   "outputs": [],
   "source": []
  },
  {
   "cell_type": "code",
   "execution_count": null,
   "metadata": {},
   "outputs": [],
   "source": []
  },
  {
   "cell_type": "code",
   "execution_count": 6,
   "metadata": {},
   "outputs": [
    {
     "name": "stdout",
     "output_type": "stream",
     "text": [
      "a_0 = 1.275\n",
      "a_1 = 2.239\n",
      "a_2 = 2.999\n"
     ]
    }
   ],
   "source": [
    "coefs_estimated = np.polyfit(poly.x, poly.y_noisy, deg=2)\n",
    "fitted_polynimial = np.poly1d(coefs_estimated)\n",
    "\n",
    "for i, c in enumerate(reversed(coefs_estimated)):\n",
    "    print('a_{} = {:.3f}'.format(i, c))"
   ]
  },
  {
   "cell_type": "code",
   "execution_count": 7,
   "metadata": {},
   "outputs": [
    {
     "data": {
      "image/png": "[encoded data removed]",
      "text/plain": [
       "<Figure size 432x288 with 1 Axes>"
      ]
     },
     "metadata": {
      "needs_background": "light"
     },
     "output_type": "display_data"
    }
   ],
   "source": [
    "plt.scatter(poly.x, poly.y_noisy)\n",
    "plt.plot(poly.x, fitted_polynimial(poly.x), color='orange')\n",
    "\n",
    "plt.plot(poly.x, 3 * poly.x**2 + 2 * poly.x + 1, 'green')\n",
    "\n",
    "plt.show()"
   ]
  },
  {
   "cell_type": "code",
   "execution_count": null,
   "metadata": {},
   "outputs": [],
   "source": []
  }
 ],
 "metadata": {
  "kernelspec": {
   "display_name": "Python 3",
   "language": "python",
   "name": "python3"
  },
  "language_info": {
   "codemirror_mode": {
    "name": "ipython",
    "version": 3
   },
   "file_extension": ".py",
   "mimetype": "text/x-python",
   "name": "python",
   "nbconvert_exporter": "python",
   "pygments_lexer": "ipython3",
   "version": "3.7.6"
  }
 },
 "nbformat": 4,
 "nbformat_minor": 2
}
