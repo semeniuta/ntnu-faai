{
 "cells": [
  {
   "cell_type": "markdown",
   "metadata": {},
   "source": [
    "Flow of two streams into a reservoir (example from Smith & Campbell).\n",
    "\n",
    "$\\rho A \\frac{dh(t)}{ht} + C_v \\sqrt{h(t)} = w_1(t) + w_2(t)$\n",
    "\n",
    "\n",
    "An example of a more complicated reformulation of ODE to suit the `scipy.integrate.odeint` format:\n",
    "\n",
    "https://sam-dolan.staff.shef.ac.uk/mas212/notebooks/ODE_Example.html"
   ]
  },
  {
   "cell_type": "code",
   "execution_count": 1,
   "metadata": {},
   "outputs": [],
   "source": [
    "%matplotlib inline\n",
    "%load_ext autoreload\n",
    "%autoreload 2"
   ]
  },
  {
   "cell_type": "code",
   "execution_count": 2,
   "metadata": {},
   "outputs": [],
   "source": [
    "import numpy as np\n",
    "from scipy.integrate import odeint\n",
    "from matplotlib import pyplot as plt"
   ]
  },
  {
   "cell_type": "code",
   "execution_count": null,
   "metadata": {},
   "outputs": [],
   "source": []
  },
  {
   "cell_type": "code",
   "execution_count": 3,
   "metadata": {},
   "outputs": [],
   "source": [
    "# Constants\n",
    "rho = 1000\n",
    "A = 0.146\n",
    "C_v = 166.7\n",
    "\n",
    "# Initial condition, h(t=0)\n",
    "h0 = 3.24\n",
    "\n",
    "def dh_dt(h, t):\n",
    "    \n",
    "    # Forcing functions\n",
    "    w1 = 200\n",
    "    w2 = 100 if t < 10 else 200\n",
    "    \n",
    "    return (1 / (rho * A)) * (w1 + w2 - C_v * np.sqrt(h))"
   ]
  },
  {
   "cell_type": "code",
   "execution_count": null,
   "metadata": {},
   "outputs": [],
   "source": []
  },
  {
   "cell_type": "code",
   "execution_count": 4,
   "metadata": {},
   "outputs": [
    {
     "data": {
      "image/png": "[encoded data removed]",
      "text/plain": [
       "<Figure size 432x288 with 1 Axes>"
      ]
     },
     "metadata": {
      "needs_background": "light"
     },
     "output_type": "display_data"
    }
   ],
   "source": [
    "t = np.linspace(0, 40)\n",
    "h = odeint(dh_dt, h0, t)\n",
    "\n",
    "_ = plt.plot(t, h)"
   ]
  },
  {
   "cell_type": "code",
   "execution_count": null,
   "metadata": {},
   "outputs": [],
   "source": []
  }
 ],
 "metadata": {
  "kernelspec": {
   "display_name": "Python 3",
   "language": "python",
   "name": "python3"
  },
  "language_info": {
   "codemirror_mode": {
    "name": "ipython",
    "version": 3
   },
   "file_extension": ".py",
   "mimetype": "text/x-python",
   "name": "python",
   "nbconvert_exporter": "python",
   "pygments_lexer": "ipython3",
   "version": "3.7.6"
  }
 },
 "nbformat": 4,
 "nbformat_minor": 4
}
