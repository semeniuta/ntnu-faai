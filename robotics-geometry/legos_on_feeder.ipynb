{
 "cells": [
  {
   "cell_type": "markdown",
   "metadata": {},
   "source": [
    "Examples of LEGO blocks randomly distributed on the picking surface of a part feeder"
   ]
  },
  {
   "cell_type": "code",
   "execution_count": 1,
   "metadata": {
    "scrolled": true
   },
   "outputs": [],
   "source": [
    "%matplotlib inline\n",
    "%load_ext autoreload\n",
    "%autoreload 2"
   ]
  },
  {
   "cell_type": "code",
   "execution_count": null,
   "metadata": {},
   "outputs": [],
   "source": []
  },
  {
   "cell_type": "code",
   "execution_count": 2,
   "metadata": {},
   "outputs": [],
   "source": [
    "import sys\n",
    "import numpy as np\n",
    "import pandas as pd\n",
    "import random\n",
    "from matplotlib import pyplot as plt"
   ]
  },
  {
   "cell_type": "code",
   "execution_count": 3,
   "metadata": {},
   "outputs": [],
   "source": [
    "ROOT_DIR = '..'\n",
    "if ROOT_DIR not in sys.path:\n",
    "    sys.path.append(ROOT_DIR)\n",
    "\n",
    "import faai"
   ]
  },
  {
   "cell_type": "code",
   "execution_count": null,
   "metadata": {},
   "outputs": [],
   "source": []
  },
  {
   "cell_type": "markdown",
   "metadata": {},
   "source": [
    "For reference: https://www.bartneck.de/2019/04/21/lego-brick-dimensions-and-measurements/"
   ]
  },
  {
   "cell_type": "code",
   "execution_count": 4,
   "metadata": {},
   "outputs": [],
   "source": [
    "def lego_brick():\n",
    "    \n",
    "    L = 31.8\n",
    "    W = 15.8\n",
    "\n",
    "    corners = np.array([[0, 0], [L, 0], [L, W], [0, W]])\n",
    "    \n",
    "    return corners.T\n",
    "\n",
    "\n",
    "def viz_rectangle(corners, **fill_kwargs):    \n",
    "    plt.fill(corners[0, :], corners[1, :], **fill_kwargs)\n",
    "    \n",
    "    \n",
    "def generate_poses(n, xrange, yrange, random_seed=None):\n",
    "    \n",
    "    xmin, xmax = xrange\n",
    "    ymin, ymax = yrange\n",
    "    \n",
    "    if random_seed is not None:\n",
    "        np.random.seed(random_seed)\n",
    "    \n",
    "    gen = []\n",
    "    \n",
    "    for i in range(n):\n",
    "    \n",
    "        x = np.random.random() * (xmax - xmin) + xmin\n",
    "        y = np.random.random() * (ymax - ymin) + ymin\n",
    "        \n",
    "        theta = np.random.random() * (2 * np.pi)\n",
    "        \n",
    "        triple = (x, y, theta)\n",
    "        gen.append(triple)\n",
    "        \n",
    "    return pd.DataFrame(gen, columns=['x', 'y', 'theta'])"
   ]
  },
  {
   "cell_type": "code",
   "execution_count": null,
   "metadata": {},
   "outputs": [],
   "source": []
  },
  {
   "cell_type": "code",
   "execution_count": null,
   "metadata": {},
   "outputs": [],
   "source": []
  },
  {
   "cell_type": "code",
   "execution_count": 5,
   "metadata": {},
   "outputs": [
    {
     "name": "stdout",
     "output_type": "stream",
     "text": [
      "[[ 0.  31.8 31.8  0. ]\n",
      " [ 0.   0.  15.8 15.8]]\n",
      "\n",
      "[[ 0.  31.8 31.8  0. ]\n",
      " [ 0.   0.  15.8 15.8]\n",
      " [ 1.   1.   1.   1. ]]\n"
     ]
    }
   ],
   "source": [
    "brick = lego_brick()\n",
    "brick_h = faai.e2h(brick)\n",
    "\n",
    "print(brick)\n",
    "print()\n",
    "print(brick_h)"
   ]
  },
  {
   "cell_type": "code",
   "execution_count": null,
   "metadata": {},
   "outputs": [],
   "source": []
  },
  {
   "cell_type": "code",
   "execution_count": 6,
   "metadata": {},
   "outputs": [
    {
     "data": {
      "text/plain": [
       "array([[ 0. , 31.8, 31.8,  0. ],\n",
       "       [ 0. ,  0. , 15.8, 15.8]])"
      ]
     },
     "execution_count": 6,
     "metadata": {},
     "output_type": "execute_result"
    }
   ],
   "source": [
    "faai.h2e(brick_h)"
   ]
  },
  {
   "cell_type": "code",
   "execution_count": null,
   "metadata": {},
   "outputs": [],
   "source": []
  },
  {
   "cell_type": "code",
   "execution_count": 7,
   "metadata": {},
   "outputs": [
    {
     "data": {
      "text/html": [
       "<div>\n",
       "<style scoped>\n",
       "    .dataframe tbody tr th:only-of-type {\n",
       "        vertical-align: middle;\n",
       "    }\n",
       "\n",
       "    .dataframe tbody tr th {\n",
       "        vertical-align: top;\n",
       "    }\n",
       "\n",
       "    .dataframe thead th {\n",
       "        text-align: right;\n",
       "    }\n",
       "</style>\n",
       "<table border=\"1\" class=\"dataframe\">\n",
       "  <thead>\n",
       "    <tr style=\"text-align: right;\">\n",
       "      <th></th>\n",
       "      <th>x</th>\n",
       "      <th>y</th>\n",
       "      <th>theta</th>\n",
       "    </tr>\n",
       "  </thead>\n",
       "  <tbody>\n",
       "    <tr>\n",
       "      <th>0</th>\n",
       "      <td>80.094837</td>\n",
       "      <td>105.036572</td>\n",
       "      <td>0.419760</td>\n",
       "    </tr>\n",
       "    <tr>\n",
       "      <th>1</th>\n",
       "      <td>306.930045</td>\n",
       "      <td>84.412678</td>\n",
       "      <td>4.657448</td>\n",
       "    </tr>\n",
       "    <tr>\n",
       "      <th>2</th>\n",
       "      <td>161.332884</td>\n",
       "      <td>92.124450</td>\n",
       "      <td>6.097117</td>\n",
       "    </tr>\n",
       "    <tr>\n",
       "      <th>3</th>\n",
       "      <td>302.813843</td>\n",
       "      <td>133.623319</td>\n",
       "      <td>4.682880</td>\n",
       "    </tr>\n",
       "    <tr>\n",
       "      <th>4</th>\n",
       "      <td>249.243057</td>\n",
       "      <td>97.415066</td>\n",
       "      <td>1.160088</td>\n",
       "    </tr>\n",
       "    <tr>\n",
       "      <th>5</th>\n",
       "      <td>120.528584</td>\n",
       "      <td>166.939606</td>\n",
       "      <td>3.840769</td>\n",
       "    </tr>\n",
       "    <tr>\n",
       "      <th>6</th>\n",
       "      <td>205.165249</td>\n",
       "      <td>157.944459</td>\n",
       "      <td>3.680697</td>\n",
       "    </tr>\n",
       "    <tr>\n",
       "      <th>7</th>\n",
       "      <td>340.885588</td>\n",
       "      <td>200.224320</td>\n",
       "      <td>3.246311</td>\n",
       "    </tr>\n",
       "    <tr>\n",
       "      <th>8</th>\n",
       "      <td>240.636768</td>\n",
       "      <td>173.087319</td>\n",
       "      <td>2.558557</td>\n",
       "    </tr>\n",
       "    <tr>\n",
       "      <th>9</th>\n",
       "      <td>276.250854</td>\n",
       "      <td>43.806618</td>\n",
       "      <td>4.104660</td>\n",
       "    </tr>\n",
       "  </tbody>\n",
       "</table>\n",
       "</div>"
      ],
      "text/plain": [
       "            x           y     theta\n",
       "0   80.094837  105.036572  0.419760\n",
       "1  306.930045   84.412678  4.657448\n",
       "2  161.332884   92.124450  6.097117\n",
       "3  302.813843  133.623319  4.682880\n",
       "4  249.243057   97.415066  1.160088\n",
       "5  120.528584  166.939606  3.840769\n",
       "6  205.165249  157.944459  3.680697\n",
       "7  340.885588  200.224320  3.246311\n",
       "8  240.636768  173.087319  2.558557\n",
       "9  276.250854   43.806618  4.104660"
      ]
     },
     "execution_count": 7,
     "metadata": {},
     "output_type": "execute_result"
    }
   ],
   "source": [
    "poses_df = generate_poses(10, (30, 350), (30, 210), random_seed=700)\n",
    "\n",
    "poses_df"
   ]
  },
  {
   "cell_type": "code",
   "execution_count": null,
   "metadata": {},
   "outputs": [],
   "source": []
  },
  {
   "cell_type": "code",
   "execution_count": null,
   "metadata": {},
   "outputs": [],
   "source": []
  },
  {
   "cell_type": "code",
   "execution_count": 8,
   "metadata": {},
   "outputs": [
    {
     "data": {
      "image/png": "[encoded data removed]",
      "text/plain": [
       "<Figure size 504x504 with 1 Axes>"
      ]
     },
     "metadata": {
      "needs_background": "light"
     },
     "output_type": "display_data"
    }
   ],
   "source": [
    "brick = lego_brick()\n",
    "brick_h = faai.e2h(brick)\n",
    "\n",
    "plt.figure(figsize=(7, 7))\n",
    "\n",
    "plt.axis('equal')\n",
    "plt.gca().set_adjustable('box')\n",
    "plt.grid(color='gray', linestyle='--', linewidth=1, alpha=0.5)\n",
    "plt.xlim((0, 400))\n",
    "plt.ylim((0, 250))\n",
    "\n",
    "for _, row in poses_df.iterrows():\n",
    "    \n",
    "    x, y, theta = row\n",
    "    \n",
    "    T = faai.se2([x, y], theta)\n",
    "\n",
    "    brick_transformed_h = np.dot(T, brick_h)\n",
    "    brick_transformed = faai.h2e(brick_transformed_h)\n",
    "    viz_rectangle(brick_transformed, color='darkorange')\n",
    "\n",
    "plt.xlabel('x')\n",
    "plt.ylabel('y')\n",
    "\n",
    "plt.show()"
   ]
  },
  {
   "cell_type": "code",
   "execution_count": null,
   "metadata": {},
   "outputs": [],
   "source": []
  },
  {
   "cell_type": "code",
   "execution_count": null,
   "metadata": {},
   "outputs": [],
   "source": []
  },
  {
   "cell_type": "code",
   "execution_count": 9,
   "metadata": {},
   "outputs": [
    {
     "data": {
      "image/png": "[encoded data removed]",
      "text/plain": [
       "<Figure size 504x504 with 1 Axes>"
      ]
     },
     "metadata": {
      "needs_background": "light"
     },
     "output_type": "display_data"
    }
   ],
   "source": [
    "brick = lego_brick()\n",
    "brick_h = faai.e2h(brick)\n",
    "\n",
    "plt.figure(figsize=(7, 7))\n",
    "\n",
    "plt.axis('equal')\n",
    "plt.gca().set_adjustable('box')\n",
    "plt.grid(color='gray', linestyle='--', linewidth=1, alpha=0.5)\n",
    "plt.xlim((0, 400))\n",
    "plt.ylim((0, 250))\n",
    "\n",
    "for _, row in poses_df.iterrows():\n",
    "    \n",
    "    x, y, theta = row\n",
    "    \n",
    "    T = faai.se2([x, y], theta)\n",
    "\n",
    "    brick_transformed_h = np.dot(T, brick_h)\n",
    "    brick_transformed = faai.h2e(brick_transformed_h)\n",
    "    viz_rectangle(brick_transformed, color='darkorange')\n",
    "    \n",
    "    faai.plot_frame(T, c='b', scale_factor=30)\n",
    "\n",
    "plt.xlabel('x')\n",
    "plt.ylabel('y')\n",
    "\n",
    "plt.show()"
   ]
  },
  {
   "cell_type": "code",
   "execution_count": null,
   "metadata": {},
   "outputs": [],
   "source": []
  }
 ],
 "metadata": {
  "kernelspec": {
   "display_name": "Python 3",
   "language": "python",
   "name": "python3"
  },
  "language_info": {
   "codemirror_mode": {
    "name": "ipython",
    "version": 3
   },
   "file_extension": ".py",
   "mimetype": "text/x-python",
   "name": "python",
   "nbconvert_exporter": "python",
   "pygments_lexer": "ipython3",
   "version": "3.7.6"
  }
 },
 "nbformat": 4,
 "nbformat_minor": 2
}
